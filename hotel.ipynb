{
 "cells": [
  {
   "cell_type": "markdown",
   "id": "30ca88a1",
   "metadata": {},
   "source": [
    "## Problem:Here by analyzing this Data we have to predict the cancelations of hotels ,here below i have defines the all features \n",
    ">>    hotel\n",
    "Hotel (H1 = Resort Hotel or H2 = City Hotel)\n",
    "\n",
    ">>is_canceled\n",
    "Value indicating if the booking was canceled (1) or not (0) it is the output feature\n",
    "\n",
    ">>lead_time\n",
    "Number of days that elapsed between the entering date of the booking into the PMS and the arrival date\n",
    "\n",
    ">>arrival_date_year\n",
    "Year of arrival date\n",
    "\n",
    ">>arrival_date_month\n",
    "Month of arrival date\n",
    "\n",
    ">>arrival_date_week_number\n",
    "Week number of year for arrival date\n",
    "\n",
    ">>arrival_date_day_of_month\n",
    "Day of arrival date\n",
    "\n",
    ">>stays_in_weekend_nights\n",
    "Number of weekend nights (Saturday or Sunday) the guest stayed or booked to stay at the hotel\n",
    "\n",
    ">>stays_in_week_nights\n",
    "Number of week nights (Monday to Friday) the guest stayed or booked to stay at the hotel\n",
    "\n",
    ">>adults\n",
    "Number of adults\n",
    "\n",
    ">>children\n",
    "Number of children\n",
    "\n",
    ">>babies\n",
    "Number of babies\n",
    "\n",
    ">>meal\n",
    "Type of meal booked. Categories are presented in standard hospitality meal packages: Undefined/SC – no meal package; BB – Bed & Breakfast; HB – Half board (breakfast and one other meal – usually dinner); FB – Full board (breakfast, lunch and dinner)\n",
    "\n",
    ">>country\n",
    "Country of origin. Categories are represented in the ISO 3155–3:2013 format\n",
    "\n",
    ">>market_segment\n",
    "Market segment designation. In categories, the term “TA” means “Travel Agents” and “TO” means “Tour Operators”\n",
    "\n",
    ">>distribution_channel\n",
    "Booking distribution channel. The term “TA” means “Travel Agents” and “TO” means “Tour Operators”\n",
    "\n",
    ">>is_repeated_guest\n",
    "Value indicating if the booking name was from a repeated guest (1) or not (0)\n",
    "\n",
    ">>previous_cancellations\n",
    "Number of previous bookings that were cancelled by the customer prior to the current booking\n",
    "\n",
    ">>previous_bookings_not_canceled\n",
    "Number of previous bookings not cancelled by the customer prior to the current booking\n",
    "\n",
    ">>reserved_room_type\n",
    "Code of room type reserved. Code is presented instead of designation for anonymity reasons.\n",
    "\n",
    ">>assigned_room_type\n",
    "Code for the type of room assigned to the booking. Sometimes the assigned room type differs from the reserved room type due to hotel operation reasons (e.g. overbooking) or by customer request. Code is presented instead of designation for anonymity reasons.\n",
    "\n",
    ">>booking_changes\n",
    "Number of changes/amendments made to the booking from the moment the booking was entered on the PMS until the moment of check-in or cancellation\n",
    "\n",
    ">>deposit_type\n",
    "Indication on if the customer made a deposit to guarantee the booking. This variable can assume three categories: No Deposit – no deposit was made; Non Refund – a deposit was made in the value of the total stay cost; Refundable – a deposit was made with a value under the total cost of stay.\n",
    "\n",
    ">>agent\n",
    "ID of the travel agency that made the booking\n",
    "\n",
    ">>company\n",
    "ID of the company/entity that made the booking or responsible for paying the booking. ID is presented instead of designation for anonymity reasons\n",
    "\n",
    ">>days_in_waiting_list\n",
    "Number of days the booking was in the waiting list before it was confirmed to the customer\n",
    "\n",
    ">>customer_type\n",
    "Type of booking, assuming one of four categories: Contract - when the booking has an allotment or other type of contract associated to it; Group – when the booking is associated to a group; Transient – when the booking is not part of a group or contract, and is not associated to other transient booking; Transient-party – when the booking is transient, but is associated to at least other transient booking\n",
    "\n",
    ">>adr\n",
    "Average Daily Rate as defined by dividing the sum of all lodging transactions by the total number of staying nights\n",
    "\n",
    ">>required_car_parking_spaces\n",
    "Number of car parking spaces required by the customer\n",
    "\n",
    ">>total_of_special_requests\n",
    "Number of special requests made by the customer (e.g. twin bed or high floor)\n",
    "\n",
    ">>reservation_status\n",
    "Reservation last status, assuming one of three categories: Canceled – booking was canceled by the customer;\n",
    "    Check-Out – customer has checked in but already departed;\n",
    "    No-Show – customer did not check-in and did inform the hotel of the reason why\n",
    "\n",
    "reservation_status_"
   ]
  },
  {
   "cell_type": "code",
   "execution_count": 1,
   "id": "cb29dc28",
   "metadata": {},
   "outputs": [],
   "source": [
    "import pandas as pd\n",
    "import numpy as np\n",
    "import seaborn as sns\n",
    "import matplotlib.pyplot as plt\n",
    "import warnings\n",
    "warnings.filterwarnings('ignore')"
   ]
  },
  {
   "cell_type": "code",
   "execution_count": 2,
   "id": "bfc84c82",
   "metadata": {},
   "outputs": [
    {
     "data": {
      "text/html": [
       "<div>\n",
       "<style scoped>\n",
       "    .dataframe tbody tr th:only-of-type {\n",
       "        vertical-align: middle;\n",
       "    }\n",
       "\n",
       "    .dataframe tbody tr th {\n",
       "        vertical-align: top;\n",
       "    }\n",
       "\n",
       "    .dataframe thead th {\n",
       "        text-align: right;\n",
       "    }\n",
       "</style>\n",
       "<table border=\"1\" class=\"dataframe\">\n",
       "  <thead>\n",
       "    <tr style=\"text-align: right;\">\n",
       "      <th></th>\n",
       "      <th>hotel</th>\n",
       "      <th>is_canceled</th>\n",
       "      <th>lead_time</th>\n",
       "      <th>arrival_date_year</th>\n",
       "      <th>arrival_date_month</th>\n",
       "      <th>arrival_date_week_number</th>\n",
       "      <th>arrival_date_day_of_month</th>\n",
       "      <th>stays_in_weekend_nights</th>\n",
       "      <th>stays_in_week_nights</th>\n",
       "      <th>adults</th>\n",
       "      <th>...</th>\n",
       "      <th>deposit_type</th>\n",
       "      <th>agent</th>\n",
       "      <th>company</th>\n",
       "      <th>days_in_waiting_list</th>\n",
       "      <th>customer_type</th>\n",
       "      <th>adr</th>\n",
       "      <th>required_car_parking_spaces</th>\n",
       "      <th>total_of_special_requests</th>\n",
       "      <th>reservation_status</th>\n",
       "      <th>reservation_status_date</th>\n",
       "    </tr>\n",
       "  </thead>\n",
       "  <tbody>\n",
       "    <tr>\n",
       "      <th>0</th>\n",
       "      <td>Resort Hotel</td>\n",
       "      <td>0</td>\n",
       "      <td>342</td>\n",
       "      <td>2015</td>\n",
       "      <td>July</td>\n",
       "      <td>27</td>\n",
       "      <td>1</td>\n",
       "      <td>0</td>\n",
       "      <td>0</td>\n",
       "      <td>2</td>\n",
       "      <td>...</td>\n",
       "      <td>No Deposit</td>\n",
       "      <td>NaN</td>\n",
       "      <td>NaN</td>\n",
       "      <td>0</td>\n",
       "      <td>Transient</td>\n",
       "      <td>0.00</td>\n",
       "      <td>0</td>\n",
       "      <td>0</td>\n",
       "      <td>Check-Out</td>\n",
       "      <td>2015-07-01</td>\n",
       "    </tr>\n",
       "    <tr>\n",
       "      <th>1</th>\n",
       "      <td>Resort Hotel</td>\n",
       "      <td>0</td>\n",
       "      <td>737</td>\n",
       "      <td>2015</td>\n",
       "      <td>July</td>\n",
       "      <td>27</td>\n",
       "      <td>1</td>\n",
       "      <td>0</td>\n",
       "      <td>0</td>\n",
       "      <td>2</td>\n",
       "      <td>...</td>\n",
       "      <td>No Deposit</td>\n",
       "      <td>NaN</td>\n",
       "      <td>NaN</td>\n",
       "      <td>0</td>\n",
       "      <td>Transient</td>\n",
       "      <td>0.00</td>\n",
       "      <td>0</td>\n",
       "      <td>0</td>\n",
       "      <td>Check-Out</td>\n",
       "      <td>2015-07-01</td>\n",
       "    </tr>\n",
       "    <tr>\n",
       "      <th>2</th>\n",
       "      <td>Resort Hotel</td>\n",
       "      <td>0</td>\n",
       "      <td>7</td>\n",
       "      <td>2015</td>\n",
       "      <td>July</td>\n",
       "      <td>27</td>\n",
       "      <td>1</td>\n",
       "      <td>0</td>\n",
       "      <td>1</td>\n",
       "      <td>1</td>\n",
       "      <td>...</td>\n",
       "      <td>No Deposit</td>\n",
       "      <td>NaN</td>\n",
       "      <td>NaN</td>\n",
       "      <td>0</td>\n",
       "      <td>Transient</td>\n",
       "      <td>75.00</td>\n",
       "      <td>0</td>\n",
       "      <td>0</td>\n",
       "      <td>Check-Out</td>\n",
       "      <td>2015-07-02</td>\n",
       "    </tr>\n",
       "    <tr>\n",
       "      <th>3</th>\n",
       "      <td>Resort Hotel</td>\n",
       "      <td>0</td>\n",
       "      <td>13</td>\n",
       "      <td>2015</td>\n",
       "      <td>July</td>\n",
       "      <td>27</td>\n",
       "      <td>1</td>\n",
       "      <td>0</td>\n",
       "      <td>1</td>\n",
       "      <td>1</td>\n",
       "      <td>...</td>\n",
       "      <td>No Deposit</td>\n",
       "      <td>304.0</td>\n",
       "      <td>NaN</td>\n",
       "      <td>0</td>\n",
       "      <td>Transient</td>\n",
       "      <td>75.00</td>\n",
       "      <td>0</td>\n",
       "      <td>0</td>\n",
       "      <td>Check-Out</td>\n",
       "      <td>2015-07-02</td>\n",
       "    </tr>\n",
       "    <tr>\n",
       "      <th>4</th>\n",
       "      <td>Resort Hotel</td>\n",
       "      <td>0</td>\n",
       "      <td>14</td>\n",
       "      <td>2015</td>\n",
       "      <td>July</td>\n",
       "      <td>27</td>\n",
       "      <td>1</td>\n",
       "      <td>0</td>\n",
       "      <td>2</td>\n",
       "      <td>2</td>\n",
       "      <td>...</td>\n",
       "      <td>No Deposit</td>\n",
       "      <td>240.0</td>\n",
       "      <td>NaN</td>\n",
       "      <td>0</td>\n",
       "      <td>Transient</td>\n",
       "      <td>98.00</td>\n",
       "      <td>0</td>\n",
       "      <td>1</td>\n",
       "      <td>Check-Out</td>\n",
       "      <td>2015-07-03</td>\n",
       "    </tr>\n",
       "    <tr>\n",
       "      <th>...</th>\n",
       "      <td>...</td>\n",
       "      <td>...</td>\n",
       "      <td>...</td>\n",
       "      <td>...</td>\n",
       "      <td>...</td>\n",
       "      <td>...</td>\n",
       "      <td>...</td>\n",
       "      <td>...</td>\n",
       "      <td>...</td>\n",
       "      <td>...</td>\n",
       "      <td>...</td>\n",
       "      <td>...</td>\n",
       "      <td>...</td>\n",
       "      <td>...</td>\n",
       "      <td>...</td>\n",
       "      <td>...</td>\n",
       "      <td>...</td>\n",
       "      <td>...</td>\n",
       "      <td>...</td>\n",
       "      <td>...</td>\n",
       "      <td>...</td>\n",
       "    </tr>\n",
       "    <tr>\n",
       "      <th>119385</th>\n",
       "      <td>City Hotel</td>\n",
       "      <td>0</td>\n",
       "      <td>23</td>\n",
       "      <td>2017</td>\n",
       "      <td>August</td>\n",
       "      <td>35</td>\n",
       "      <td>30</td>\n",
       "      <td>2</td>\n",
       "      <td>5</td>\n",
       "      <td>2</td>\n",
       "      <td>...</td>\n",
       "      <td>No Deposit</td>\n",
       "      <td>394.0</td>\n",
       "      <td>NaN</td>\n",
       "      <td>0</td>\n",
       "      <td>Transient</td>\n",
       "      <td>96.14</td>\n",
       "      <td>0</td>\n",
       "      <td>0</td>\n",
       "      <td>Check-Out</td>\n",
       "      <td>2017-09-06</td>\n",
       "    </tr>\n",
       "    <tr>\n",
       "      <th>119386</th>\n",
       "      <td>City Hotel</td>\n",
       "      <td>0</td>\n",
       "      <td>102</td>\n",
       "      <td>2017</td>\n",
       "      <td>August</td>\n",
       "      <td>35</td>\n",
       "      <td>31</td>\n",
       "      <td>2</td>\n",
       "      <td>5</td>\n",
       "      <td>3</td>\n",
       "      <td>...</td>\n",
       "      <td>No Deposit</td>\n",
       "      <td>9.0</td>\n",
       "      <td>NaN</td>\n",
       "      <td>0</td>\n",
       "      <td>Transient</td>\n",
       "      <td>225.43</td>\n",
       "      <td>0</td>\n",
       "      <td>2</td>\n",
       "      <td>Check-Out</td>\n",
       "      <td>2017-09-07</td>\n",
       "    </tr>\n",
       "    <tr>\n",
       "      <th>119387</th>\n",
       "      <td>City Hotel</td>\n",
       "      <td>0</td>\n",
       "      <td>34</td>\n",
       "      <td>2017</td>\n",
       "      <td>August</td>\n",
       "      <td>35</td>\n",
       "      <td>31</td>\n",
       "      <td>2</td>\n",
       "      <td>5</td>\n",
       "      <td>2</td>\n",
       "      <td>...</td>\n",
       "      <td>No Deposit</td>\n",
       "      <td>9.0</td>\n",
       "      <td>NaN</td>\n",
       "      <td>0</td>\n",
       "      <td>Transient</td>\n",
       "      <td>157.71</td>\n",
       "      <td>0</td>\n",
       "      <td>4</td>\n",
       "      <td>Check-Out</td>\n",
       "      <td>2017-09-07</td>\n",
       "    </tr>\n",
       "    <tr>\n",
       "      <th>119388</th>\n",
       "      <td>City Hotel</td>\n",
       "      <td>0</td>\n",
       "      <td>109</td>\n",
       "      <td>2017</td>\n",
       "      <td>August</td>\n",
       "      <td>35</td>\n",
       "      <td>31</td>\n",
       "      <td>2</td>\n",
       "      <td>5</td>\n",
       "      <td>2</td>\n",
       "      <td>...</td>\n",
       "      <td>No Deposit</td>\n",
       "      <td>89.0</td>\n",
       "      <td>NaN</td>\n",
       "      <td>0</td>\n",
       "      <td>Transient</td>\n",
       "      <td>104.40</td>\n",
       "      <td>0</td>\n",
       "      <td>0</td>\n",
       "      <td>Check-Out</td>\n",
       "      <td>2017-09-07</td>\n",
       "    </tr>\n",
       "    <tr>\n",
       "      <th>119389</th>\n",
       "      <td>City Hotel</td>\n",
       "      <td>0</td>\n",
       "      <td>205</td>\n",
       "      <td>2017</td>\n",
       "      <td>August</td>\n",
       "      <td>35</td>\n",
       "      <td>29</td>\n",
       "      <td>2</td>\n",
       "      <td>7</td>\n",
       "      <td>2</td>\n",
       "      <td>...</td>\n",
       "      <td>No Deposit</td>\n",
       "      <td>9.0</td>\n",
       "      <td>NaN</td>\n",
       "      <td>0</td>\n",
       "      <td>Transient</td>\n",
       "      <td>151.20</td>\n",
       "      <td>0</td>\n",
       "      <td>2</td>\n",
       "      <td>Check-Out</td>\n",
       "      <td>2017-09-07</td>\n",
       "    </tr>\n",
       "  </tbody>\n",
       "</table>\n",
       "<p>119390 rows × 32 columns</p>\n",
       "</div>"
      ],
      "text/plain": [
       "               hotel  is_canceled  lead_time  arrival_date_year  \\\n",
       "0       Resort Hotel            0        342               2015   \n",
       "1       Resort Hotel            0        737               2015   \n",
       "2       Resort Hotel            0          7               2015   \n",
       "3       Resort Hotel            0         13               2015   \n",
       "4       Resort Hotel            0         14               2015   \n",
       "...              ...          ...        ...                ...   \n",
       "119385    City Hotel            0         23               2017   \n",
       "119386    City Hotel            0        102               2017   \n",
       "119387    City Hotel            0         34               2017   \n",
       "119388    City Hotel            0        109               2017   \n",
       "119389    City Hotel            0        205               2017   \n",
       "\n",
       "       arrival_date_month  arrival_date_week_number  \\\n",
       "0                    July                        27   \n",
       "1                    July                        27   \n",
       "2                    July                        27   \n",
       "3                    July                        27   \n",
       "4                    July                        27   \n",
       "...                   ...                       ...   \n",
       "119385             August                        35   \n",
       "119386             August                        35   \n",
       "119387             August                        35   \n",
       "119388             August                        35   \n",
       "119389             August                        35   \n",
       "\n",
       "        arrival_date_day_of_month  stays_in_weekend_nights  \\\n",
       "0                               1                        0   \n",
       "1                               1                        0   \n",
       "2                               1                        0   \n",
       "3                               1                        0   \n",
       "4                               1                        0   \n",
       "...                           ...                      ...   \n",
       "119385                         30                        2   \n",
       "119386                         31                        2   \n",
       "119387                         31                        2   \n",
       "119388                         31                        2   \n",
       "119389                         29                        2   \n",
       "\n",
       "        stays_in_week_nights  adults  ...  deposit_type  agent company  \\\n",
       "0                          0       2  ...    No Deposit    NaN     NaN   \n",
       "1                          0       2  ...    No Deposit    NaN     NaN   \n",
       "2                          1       1  ...    No Deposit    NaN     NaN   \n",
       "3                          1       1  ...    No Deposit  304.0     NaN   \n",
       "4                          2       2  ...    No Deposit  240.0     NaN   \n",
       "...                      ...     ...  ...           ...    ...     ...   \n",
       "119385                     5       2  ...    No Deposit  394.0     NaN   \n",
       "119386                     5       3  ...    No Deposit    9.0     NaN   \n",
       "119387                     5       2  ...    No Deposit    9.0     NaN   \n",
       "119388                     5       2  ...    No Deposit   89.0     NaN   \n",
       "119389                     7       2  ...    No Deposit    9.0     NaN   \n",
       "\n",
       "       days_in_waiting_list customer_type     adr  \\\n",
       "0                         0     Transient    0.00   \n",
       "1                         0     Transient    0.00   \n",
       "2                         0     Transient   75.00   \n",
       "3                         0     Transient   75.00   \n",
       "4                         0     Transient   98.00   \n",
       "...                     ...           ...     ...   \n",
       "119385                    0     Transient   96.14   \n",
       "119386                    0     Transient  225.43   \n",
       "119387                    0     Transient  157.71   \n",
       "119388                    0     Transient  104.40   \n",
       "119389                    0     Transient  151.20   \n",
       "\n",
       "        required_car_parking_spaces  total_of_special_requests  \\\n",
       "0                                 0                          0   \n",
       "1                                 0                          0   \n",
       "2                                 0                          0   \n",
       "3                                 0                          0   \n",
       "4                                 0                          1   \n",
       "...                             ...                        ...   \n",
       "119385                            0                          0   \n",
       "119386                            0                          2   \n",
       "119387                            0                          4   \n",
       "119388                            0                          0   \n",
       "119389                            0                          2   \n",
       "\n",
       "        reservation_status reservation_status_date  \n",
       "0                Check-Out              2015-07-01  \n",
       "1                Check-Out              2015-07-01  \n",
       "2                Check-Out              2015-07-02  \n",
       "3                Check-Out              2015-07-02  \n",
       "4                Check-Out              2015-07-03  \n",
       "...                    ...                     ...  \n",
       "119385           Check-Out              2017-09-06  \n",
       "119386           Check-Out              2017-09-07  \n",
       "119387           Check-Out              2017-09-07  \n",
       "119388           Check-Out              2017-09-07  \n",
       "119389           Check-Out              2017-09-07  \n",
       "\n",
       "[119390 rows x 32 columns]"
      ]
     },
     "execution_count": 2,
     "metadata": {},
     "output_type": "execute_result"
    }
   ],
   "source": [
    "\n",
    "df=pd.read_csv(\"hotel_bookings.csv\",parse_dates=[\"reservation_status_date\"])\n",
    "df"
   ]
  },
  {
   "cell_type": "code",
   "execution_count": 157,
   "id": "f3d33f47",
   "metadata": {},
   "outputs": [
    {
     "data": {
      "text/plain": [
       "Index(['hotel', 'is_canceled', 'lead_time', 'arrival_date_year',\n",
       "       'arrival_date_month', 'arrival_date_week_number',\n",
       "       'arrival_date_day_of_month', 'stays_in_weekend_nights',\n",
       "       'stays_in_week_nights', 'adults', 'children', 'babies', 'meal',\n",
       "       'country', 'market_segment', 'distribution_channel',\n",
       "       'is_repeated_guest', 'previous_cancellations',\n",
       "       'previous_bookings_not_canceled', 'reserved_room_type',\n",
       "       'assigned_room_type', 'booking_changes', 'deposit_type', 'agent',\n",
       "       'company', 'days_in_waiting_list', 'customer_type', 'adr',\n",
       "       'required_car_parking_spaces', 'total_of_special_requests',\n",
       "       'reservation_status', 'reservation_status_date'],\n",
       "      dtype='object')"
      ]
     },
     "execution_count": 157,
     "metadata": {},
     "output_type": "execute_result"
    }
   ],
   "source": [
    "df.columns\n"
   ]
  },
  {
   "cell_type": "code",
   "execution_count": 158,
   "id": "91846723",
   "metadata": {},
   "outputs": [
    {
     "name": "stdout",
     "output_type": "stream",
     "text": [
      "<class 'pandas.core.frame.DataFrame'>\n",
      "RangeIndex: 119390 entries, 0 to 119389\n",
      "Data columns (total 32 columns):\n",
      " #   Column                          Non-Null Count   Dtype         \n",
      "---  ------                          --------------   -----         \n",
      " 0   hotel                           119390 non-null  object        \n",
      " 1   is_canceled                     119390 non-null  int64         \n",
      " 2   lead_time                       119390 non-null  int64         \n",
      " 3   arrival_date_year               119390 non-null  int64         \n",
      " 4   arrival_date_month              119390 non-null  object        \n",
      " 5   arrival_date_week_number        119390 non-null  int64         \n",
      " 6   arrival_date_day_of_month       119390 non-null  int64         \n",
      " 7   stays_in_weekend_nights         119390 non-null  int64         \n",
      " 8   stays_in_week_nights            119390 non-null  int64         \n",
      " 9   adults                          119390 non-null  int64         \n",
      " 10  children                        119386 non-null  float64       \n",
      " 11  babies                          119390 non-null  int64         \n",
      " 12  meal                            119390 non-null  object        \n",
      " 13  country                         118902 non-null  object        \n",
      " 14  market_segment                  119390 non-null  object        \n",
      " 15  distribution_channel            119390 non-null  object        \n",
      " 16  is_repeated_guest               119390 non-null  int64         \n",
      " 17  previous_cancellations          119390 non-null  int64         \n",
      " 18  previous_bookings_not_canceled  119390 non-null  int64         \n",
      " 19  reserved_room_type              119390 non-null  object        \n",
      " 20  assigned_room_type              119390 non-null  object        \n",
      " 21  booking_changes                 119390 non-null  int64         \n",
      " 22  deposit_type                    119390 non-null  object        \n",
      " 23  agent                           103050 non-null  float64       \n",
      " 24  company                         6797 non-null    float64       \n",
      " 25  days_in_waiting_list            119390 non-null  int64         \n",
      " 26  customer_type                   119390 non-null  object        \n",
      " 27  adr                             119390 non-null  float64       \n",
      " 28  required_car_parking_spaces     119390 non-null  int64         \n",
      " 29  total_of_special_requests       119390 non-null  int64         \n",
      " 30  reservation_status              119390 non-null  object        \n",
      " 31  reservation_status_date         119390 non-null  datetime64[ns]\n",
      "dtypes: datetime64[ns](1), float64(4), int64(16), object(11)\n",
      "memory usage: 29.1+ MB\n"
     ]
    }
   ],
   "source": [
    "df.info()"
   ]
  },
  {
   "cell_type": "code",
   "execution_count": 159,
   "id": "b2b4a3ba",
   "metadata": {},
   "outputs": [
    {
     "data": {
      "text/plain": [
       "hotel                                  0\n",
       "is_canceled                            0\n",
       "lead_time                              0\n",
       "arrival_date_year                      0\n",
       "arrival_date_month                     0\n",
       "arrival_date_week_number               0\n",
       "arrival_date_day_of_month              0\n",
       "stays_in_weekend_nights                0\n",
       "stays_in_week_nights                   0\n",
       "adults                                 0\n",
       "children                               4\n",
       "babies                                 0\n",
       "meal                                   0\n",
       "country                              488\n",
       "market_segment                         0\n",
       "distribution_channel                   0\n",
       "is_repeated_guest                      0\n",
       "previous_cancellations                 0\n",
       "previous_bookings_not_canceled         0\n",
       "reserved_room_type                     0\n",
       "assigned_room_type                     0\n",
       "booking_changes                        0\n",
       "deposit_type                           0\n",
       "agent                              16340\n",
       "company                           112593\n",
       "days_in_waiting_list                   0\n",
       "customer_type                          0\n",
       "adr                                    0\n",
       "required_car_parking_spaces            0\n",
       "total_of_special_requests              0\n",
       "reservation_status                     0\n",
       "reservation_status_date                0\n",
       "dtype: int64"
      ]
     },
     "execution_count": 159,
     "metadata": {},
     "output_type": "execute_result"
    }
   ],
   "source": [
    "df.isnull().sum()"
   ]
  },
  {
   "cell_type": "code",
   "execution_count": 160,
   "id": "c3041882",
   "metadata": {},
   "outputs": [
    {
     "data": {
      "text/plain": [
       "array([ 0,  1,  2,  3,  4,  5, 10, 11,  8,  6,  7, 15,  9, 12, 33, 20, 14,\n",
       "       16, 21, 13, 30, 19, 24, 40, 22, 42, 50, 25, 17, 32, 26, 18, 34, 35,\n",
       "       41], dtype=int64)"
      ]
     },
     "execution_count": 160,
     "metadata": {},
     "output_type": "execute_result"
    }
   ],
   "source": [
    "df.stays_in_week_nights.unique()"
   ]
  },
  {
   "cell_type": "code",
   "execution_count": 161,
   "id": "fd69d5bc",
   "metadata": {},
   "outputs": [
    {
     "data": {
      "text/html": [
       "<div>\n",
       "<style scoped>\n",
       "    .dataframe tbody tr th:only-of-type {\n",
       "        vertical-align: middle;\n",
       "    }\n",
       "\n",
       "    .dataframe tbody tr th {\n",
       "        vertical-align: top;\n",
       "    }\n",
       "\n",
       "    .dataframe thead th {\n",
       "        text-align: right;\n",
       "    }\n",
       "</style>\n",
       "<table border=\"1\" class=\"dataframe\">\n",
       "  <thead>\n",
       "    <tr style=\"text-align: right;\">\n",
       "      <th></th>\n",
       "      <th>is_canceled</th>\n",
       "      <th>lead_time</th>\n",
       "      <th>arrival_date_year</th>\n",
       "      <th>arrival_date_week_number</th>\n",
       "      <th>arrival_date_day_of_month</th>\n",
       "      <th>stays_in_weekend_nights</th>\n",
       "      <th>stays_in_week_nights</th>\n",
       "      <th>adults</th>\n",
       "      <th>children</th>\n",
       "      <th>babies</th>\n",
       "      <th>is_repeated_guest</th>\n",
       "      <th>previous_cancellations</th>\n",
       "      <th>previous_bookings_not_canceled</th>\n",
       "      <th>booking_changes</th>\n",
       "      <th>agent</th>\n",
       "      <th>company</th>\n",
       "      <th>days_in_waiting_list</th>\n",
       "      <th>adr</th>\n",
       "      <th>required_car_parking_spaces</th>\n",
       "      <th>total_of_special_requests</th>\n",
       "    </tr>\n",
       "  </thead>\n",
       "  <tbody>\n",
       "    <tr>\n",
       "      <th>count</th>\n",
       "      <td>119390.000000</td>\n",
       "      <td>119390.000000</td>\n",
       "      <td>119390.000000</td>\n",
       "      <td>119390.000000</td>\n",
       "      <td>119390.000000</td>\n",
       "      <td>119390.000000</td>\n",
       "      <td>119390.000000</td>\n",
       "      <td>119390.000000</td>\n",
       "      <td>119386.000000</td>\n",
       "      <td>119390.000000</td>\n",
       "      <td>119390.000000</td>\n",
       "      <td>119390.000000</td>\n",
       "      <td>119390.000000</td>\n",
       "      <td>119390.000000</td>\n",
       "      <td>103050.000000</td>\n",
       "      <td>6797.000000</td>\n",
       "      <td>119390.000000</td>\n",
       "      <td>119390.000000</td>\n",
       "      <td>119390.000000</td>\n",
       "      <td>119390.000000</td>\n",
       "    </tr>\n",
       "    <tr>\n",
       "      <th>mean</th>\n",
       "      <td>0.370416</td>\n",
       "      <td>104.011416</td>\n",
       "      <td>2016.156554</td>\n",
       "      <td>27.165173</td>\n",
       "      <td>15.798241</td>\n",
       "      <td>0.927599</td>\n",
       "      <td>2.500302</td>\n",
       "      <td>1.856403</td>\n",
       "      <td>0.103890</td>\n",
       "      <td>0.007949</td>\n",
       "      <td>0.031912</td>\n",
       "      <td>0.087118</td>\n",
       "      <td>0.137097</td>\n",
       "      <td>0.221124</td>\n",
       "      <td>86.693382</td>\n",
       "      <td>189.266735</td>\n",
       "      <td>2.321149</td>\n",
       "      <td>101.831122</td>\n",
       "      <td>0.062518</td>\n",
       "      <td>0.571363</td>\n",
       "    </tr>\n",
       "    <tr>\n",
       "      <th>std</th>\n",
       "      <td>0.482918</td>\n",
       "      <td>106.863097</td>\n",
       "      <td>0.707476</td>\n",
       "      <td>13.605138</td>\n",
       "      <td>8.780829</td>\n",
       "      <td>0.998613</td>\n",
       "      <td>1.908286</td>\n",
       "      <td>0.579261</td>\n",
       "      <td>0.398561</td>\n",
       "      <td>0.097436</td>\n",
       "      <td>0.175767</td>\n",
       "      <td>0.844336</td>\n",
       "      <td>1.497437</td>\n",
       "      <td>0.652306</td>\n",
       "      <td>110.774548</td>\n",
       "      <td>131.655015</td>\n",
       "      <td>17.594721</td>\n",
       "      <td>50.535790</td>\n",
       "      <td>0.245291</td>\n",
       "      <td>0.792798</td>\n",
       "    </tr>\n",
       "    <tr>\n",
       "      <th>min</th>\n",
       "      <td>0.000000</td>\n",
       "      <td>0.000000</td>\n",
       "      <td>2015.000000</td>\n",
       "      <td>1.000000</td>\n",
       "      <td>1.000000</td>\n",
       "      <td>0.000000</td>\n",
       "      <td>0.000000</td>\n",
       "      <td>0.000000</td>\n",
       "      <td>0.000000</td>\n",
       "      <td>0.000000</td>\n",
       "      <td>0.000000</td>\n",
       "      <td>0.000000</td>\n",
       "      <td>0.000000</td>\n",
       "      <td>0.000000</td>\n",
       "      <td>1.000000</td>\n",
       "      <td>6.000000</td>\n",
       "      <td>0.000000</td>\n",
       "      <td>-6.380000</td>\n",
       "      <td>0.000000</td>\n",
       "      <td>0.000000</td>\n",
       "    </tr>\n",
       "    <tr>\n",
       "      <th>25%</th>\n",
       "      <td>0.000000</td>\n",
       "      <td>18.000000</td>\n",
       "      <td>2016.000000</td>\n",
       "      <td>16.000000</td>\n",
       "      <td>8.000000</td>\n",
       "      <td>0.000000</td>\n",
       "      <td>1.000000</td>\n",
       "      <td>2.000000</td>\n",
       "      <td>0.000000</td>\n",
       "      <td>0.000000</td>\n",
       "      <td>0.000000</td>\n",
       "      <td>0.000000</td>\n",
       "      <td>0.000000</td>\n",
       "      <td>0.000000</td>\n",
       "      <td>9.000000</td>\n",
       "      <td>62.000000</td>\n",
       "      <td>0.000000</td>\n",
       "      <td>69.290000</td>\n",
       "      <td>0.000000</td>\n",
       "      <td>0.000000</td>\n",
       "    </tr>\n",
       "    <tr>\n",
       "      <th>50%</th>\n",
       "      <td>0.000000</td>\n",
       "      <td>69.000000</td>\n",
       "      <td>2016.000000</td>\n",
       "      <td>28.000000</td>\n",
       "      <td>16.000000</td>\n",
       "      <td>1.000000</td>\n",
       "      <td>2.000000</td>\n",
       "      <td>2.000000</td>\n",
       "      <td>0.000000</td>\n",
       "      <td>0.000000</td>\n",
       "      <td>0.000000</td>\n",
       "      <td>0.000000</td>\n",
       "      <td>0.000000</td>\n",
       "      <td>0.000000</td>\n",
       "      <td>14.000000</td>\n",
       "      <td>179.000000</td>\n",
       "      <td>0.000000</td>\n",
       "      <td>94.575000</td>\n",
       "      <td>0.000000</td>\n",
       "      <td>0.000000</td>\n",
       "    </tr>\n",
       "    <tr>\n",
       "      <th>75%</th>\n",
       "      <td>1.000000</td>\n",
       "      <td>160.000000</td>\n",
       "      <td>2017.000000</td>\n",
       "      <td>38.000000</td>\n",
       "      <td>23.000000</td>\n",
       "      <td>2.000000</td>\n",
       "      <td>3.000000</td>\n",
       "      <td>2.000000</td>\n",
       "      <td>0.000000</td>\n",
       "      <td>0.000000</td>\n",
       "      <td>0.000000</td>\n",
       "      <td>0.000000</td>\n",
       "      <td>0.000000</td>\n",
       "      <td>0.000000</td>\n",
       "      <td>229.000000</td>\n",
       "      <td>270.000000</td>\n",
       "      <td>0.000000</td>\n",
       "      <td>126.000000</td>\n",
       "      <td>0.000000</td>\n",
       "      <td>1.000000</td>\n",
       "    </tr>\n",
       "    <tr>\n",
       "      <th>max</th>\n",
       "      <td>1.000000</td>\n",
       "      <td>737.000000</td>\n",
       "      <td>2017.000000</td>\n",
       "      <td>53.000000</td>\n",
       "      <td>31.000000</td>\n",
       "      <td>19.000000</td>\n",
       "      <td>50.000000</td>\n",
       "      <td>55.000000</td>\n",
       "      <td>10.000000</td>\n",
       "      <td>10.000000</td>\n",
       "      <td>1.000000</td>\n",
       "      <td>26.000000</td>\n",
       "      <td>72.000000</td>\n",
       "      <td>21.000000</td>\n",
       "      <td>535.000000</td>\n",
       "      <td>543.000000</td>\n",
       "      <td>391.000000</td>\n",
       "      <td>5400.000000</td>\n",
       "      <td>8.000000</td>\n",
       "      <td>5.000000</td>\n",
       "    </tr>\n",
       "  </tbody>\n",
       "</table>\n",
       "</div>"
      ],
      "text/plain": [
       "         is_canceled      lead_time  arrival_date_year  \\\n",
       "count  119390.000000  119390.000000      119390.000000   \n",
       "mean        0.370416     104.011416        2016.156554   \n",
       "std         0.482918     106.863097           0.707476   \n",
       "min         0.000000       0.000000        2015.000000   \n",
       "25%         0.000000      18.000000        2016.000000   \n",
       "50%         0.000000      69.000000        2016.000000   \n",
       "75%         1.000000     160.000000        2017.000000   \n",
       "max         1.000000     737.000000        2017.000000   \n",
       "\n",
       "       arrival_date_week_number  arrival_date_day_of_month  \\\n",
       "count             119390.000000              119390.000000   \n",
       "mean                  27.165173                  15.798241   \n",
       "std                   13.605138                   8.780829   \n",
       "min                    1.000000                   1.000000   \n",
       "25%                   16.000000                   8.000000   \n",
       "50%                   28.000000                  16.000000   \n",
       "75%                   38.000000                  23.000000   \n",
       "max                   53.000000                  31.000000   \n",
       "\n",
       "       stays_in_weekend_nights  stays_in_week_nights         adults  \\\n",
       "count            119390.000000         119390.000000  119390.000000   \n",
       "mean                  0.927599              2.500302       1.856403   \n",
       "std                   0.998613              1.908286       0.579261   \n",
       "min                   0.000000              0.000000       0.000000   \n",
       "25%                   0.000000              1.000000       2.000000   \n",
       "50%                   1.000000              2.000000       2.000000   \n",
       "75%                   2.000000              3.000000       2.000000   \n",
       "max                  19.000000             50.000000      55.000000   \n",
       "\n",
       "            children         babies  is_repeated_guest  \\\n",
       "count  119386.000000  119390.000000      119390.000000   \n",
       "mean        0.103890       0.007949           0.031912   \n",
       "std         0.398561       0.097436           0.175767   \n",
       "min         0.000000       0.000000           0.000000   \n",
       "25%         0.000000       0.000000           0.000000   \n",
       "50%         0.000000       0.000000           0.000000   \n",
       "75%         0.000000       0.000000           0.000000   \n",
       "max        10.000000      10.000000           1.000000   \n",
       "\n",
       "       previous_cancellations  previous_bookings_not_canceled  \\\n",
       "count           119390.000000                   119390.000000   \n",
       "mean                 0.087118                        0.137097   \n",
       "std                  0.844336                        1.497437   \n",
       "min                  0.000000                        0.000000   \n",
       "25%                  0.000000                        0.000000   \n",
       "50%                  0.000000                        0.000000   \n",
       "75%                  0.000000                        0.000000   \n",
       "max                 26.000000                       72.000000   \n",
       "\n",
       "       booking_changes          agent      company  days_in_waiting_list  \\\n",
       "count    119390.000000  103050.000000  6797.000000         119390.000000   \n",
       "mean          0.221124      86.693382   189.266735              2.321149   \n",
       "std           0.652306     110.774548   131.655015             17.594721   \n",
       "min           0.000000       1.000000     6.000000              0.000000   \n",
       "25%           0.000000       9.000000    62.000000              0.000000   \n",
       "50%           0.000000      14.000000   179.000000              0.000000   \n",
       "75%           0.000000     229.000000   270.000000              0.000000   \n",
       "max          21.000000     535.000000   543.000000            391.000000   \n",
       "\n",
       "                 adr  required_car_parking_spaces  total_of_special_requests  \n",
       "count  119390.000000                119390.000000              119390.000000  \n",
       "mean      101.831122                     0.062518                   0.571363  \n",
       "std        50.535790                     0.245291                   0.792798  \n",
       "min        -6.380000                     0.000000                   0.000000  \n",
       "25%        69.290000                     0.000000                   0.000000  \n",
       "50%        94.575000                     0.000000                   0.000000  \n",
       "75%       126.000000                     0.000000                   1.000000  \n",
       "max      5400.000000                     8.000000                   5.000000  "
      ]
     },
     "execution_count": 161,
     "metadata": {},
     "output_type": "execute_result"
    }
   ],
   "source": [
    "df.describe()"
   ]
  },
  {
   "cell_type": "code",
   "execution_count": 162,
   "id": "4c0f40a2",
   "metadata": {},
   "outputs": [
    {
     "data": {
      "text/html": [
       "<div>\n",
       "<style scoped>\n",
       "    .dataframe tbody tr th:only-of-type {\n",
       "        vertical-align: middle;\n",
       "    }\n",
       "\n",
       "    .dataframe tbody tr th {\n",
       "        vertical-align: top;\n",
       "    }\n",
       "\n",
       "    .dataframe thead th {\n",
       "        text-align: right;\n",
       "    }\n",
       "</style>\n",
       "<table border=\"1\" class=\"dataframe\">\n",
       "  <thead>\n",
       "    <tr style=\"text-align: right;\">\n",
       "      <th></th>\n",
       "      <th>is_canceled</th>\n",
       "      <th>lead_time</th>\n",
       "      <th>arrival_date_year</th>\n",
       "      <th>arrival_date_week_number</th>\n",
       "      <th>arrival_date_day_of_month</th>\n",
       "      <th>stays_in_weekend_nights</th>\n",
       "      <th>stays_in_week_nights</th>\n",
       "      <th>adults</th>\n",
       "      <th>children</th>\n",
       "      <th>babies</th>\n",
       "      <th>is_repeated_guest</th>\n",
       "      <th>previous_cancellations</th>\n",
       "      <th>previous_bookings_not_canceled</th>\n",
       "      <th>booking_changes</th>\n",
       "      <th>agent</th>\n",
       "      <th>company</th>\n",
       "      <th>days_in_waiting_list</th>\n",
       "      <th>adr</th>\n",
       "      <th>required_car_parking_spaces</th>\n",
       "      <th>total_of_special_requests</th>\n",
       "    </tr>\n",
       "  </thead>\n",
       "  <tbody>\n",
       "    <tr>\n",
       "      <th>is_canceled</th>\n",
       "      <td>1.000000</td>\n",
       "      <td>0.293123</td>\n",
       "      <td>0.016660</td>\n",
       "      <td>0.008148</td>\n",
       "      <td>-0.006130</td>\n",
       "      <td>-0.001791</td>\n",
       "      <td>0.024765</td>\n",
       "      <td>0.060017</td>\n",
       "      <td>0.005048</td>\n",
       "      <td>-0.032491</td>\n",
       "      <td>-0.084793</td>\n",
       "      <td>0.110133</td>\n",
       "      <td>-0.057358</td>\n",
       "      <td>-0.144381</td>\n",
       "      <td>-0.083114</td>\n",
       "      <td>-0.020642</td>\n",
       "      <td>0.054186</td>\n",
       "      <td>0.047557</td>\n",
       "      <td>-0.195498</td>\n",
       "      <td>-0.234658</td>\n",
       "    </tr>\n",
       "    <tr>\n",
       "      <th>lead_time</th>\n",
       "      <td>0.293123</td>\n",
       "      <td>1.000000</td>\n",
       "      <td>0.040142</td>\n",
       "      <td>0.126871</td>\n",
       "      <td>0.002268</td>\n",
       "      <td>0.085671</td>\n",
       "      <td>0.165799</td>\n",
       "      <td>0.119519</td>\n",
       "      <td>-0.037622</td>\n",
       "      <td>-0.020915</td>\n",
       "      <td>-0.124410</td>\n",
       "      <td>0.086042</td>\n",
       "      <td>-0.073548</td>\n",
       "      <td>0.000149</td>\n",
       "      <td>-0.069741</td>\n",
       "      <td>0.151464</td>\n",
       "      <td>0.170084</td>\n",
       "      <td>-0.063077</td>\n",
       "      <td>-0.116451</td>\n",
       "      <td>-0.095712</td>\n",
       "    </tr>\n",
       "    <tr>\n",
       "      <th>arrival_date_year</th>\n",
       "      <td>0.016660</td>\n",
       "      <td>0.040142</td>\n",
       "      <td>1.000000</td>\n",
       "      <td>-0.540561</td>\n",
       "      <td>-0.000221</td>\n",
       "      <td>0.021497</td>\n",
       "      <td>0.030883</td>\n",
       "      <td>0.029635</td>\n",
       "      <td>0.054624</td>\n",
       "      <td>-0.013192</td>\n",
       "      <td>0.010341</td>\n",
       "      <td>-0.119822</td>\n",
       "      <td>0.029218</td>\n",
       "      <td>0.030872</td>\n",
       "      <td>0.063457</td>\n",
       "      <td>0.259095</td>\n",
       "      <td>-0.056497</td>\n",
       "      <td>0.197580</td>\n",
       "      <td>-0.013684</td>\n",
       "      <td>0.108531</td>\n",
       "    </tr>\n",
       "    <tr>\n",
       "      <th>arrival_date_week_number</th>\n",
       "      <td>0.008148</td>\n",
       "      <td>0.126871</td>\n",
       "      <td>-0.540561</td>\n",
       "      <td>1.000000</td>\n",
       "      <td>0.066809</td>\n",
       "      <td>0.018208</td>\n",
       "      <td>0.015558</td>\n",
       "      <td>0.025909</td>\n",
       "      <td>0.005518</td>\n",
       "      <td>0.010395</td>\n",
       "      <td>-0.030131</td>\n",
       "      <td>0.035501</td>\n",
       "      <td>-0.020904</td>\n",
       "      <td>0.005508</td>\n",
       "      <td>-0.031201</td>\n",
       "      <td>-0.076760</td>\n",
       "      <td>0.022933</td>\n",
       "      <td>0.075791</td>\n",
       "      <td>0.001920</td>\n",
       "      <td>0.026149</td>\n",
       "    </tr>\n",
       "    <tr>\n",
       "      <th>arrival_date_day_of_month</th>\n",
       "      <td>-0.006130</td>\n",
       "      <td>0.002268</td>\n",
       "      <td>-0.000221</td>\n",
       "      <td>0.066809</td>\n",
       "      <td>1.000000</td>\n",
       "      <td>-0.016354</td>\n",
       "      <td>-0.028174</td>\n",
       "      <td>-0.001566</td>\n",
       "      <td>0.014544</td>\n",
       "      <td>-0.000230</td>\n",
       "      <td>-0.006145</td>\n",
       "      <td>-0.027011</td>\n",
       "      <td>-0.000300</td>\n",
       "      <td>0.010613</td>\n",
       "      <td>0.001487</td>\n",
       "      <td>0.044858</td>\n",
       "      <td>0.022728</td>\n",
       "      <td>0.030245</td>\n",
       "      <td>0.008683</td>\n",
       "      <td>0.003062</td>\n",
       "    </tr>\n",
       "    <tr>\n",
       "      <th>stays_in_weekend_nights</th>\n",
       "      <td>-0.001791</td>\n",
       "      <td>0.085671</td>\n",
       "      <td>0.021497</td>\n",
       "      <td>0.018208</td>\n",
       "      <td>-0.016354</td>\n",
       "      <td>1.000000</td>\n",
       "      <td>0.498969</td>\n",
       "      <td>0.091871</td>\n",
       "      <td>0.045793</td>\n",
       "      <td>0.018483</td>\n",
       "      <td>-0.087239</td>\n",
       "      <td>-0.012775</td>\n",
       "      <td>-0.042715</td>\n",
       "      <td>0.063281</td>\n",
       "      <td>0.140739</td>\n",
       "      <td>0.066749</td>\n",
       "      <td>-0.054151</td>\n",
       "      <td>0.049342</td>\n",
       "      <td>-0.018554</td>\n",
       "      <td>0.072671</td>\n",
       "    </tr>\n",
       "    <tr>\n",
       "      <th>stays_in_week_nights</th>\n",
       "      <td>0.024765</td>\n",
       "      <td>0.165799</td>\n",
       "      <td>0.030883</td>\n",
       "      <td>0.015558</td>\n",
       "      <td>-0.028174</td>\n",
       "      <td>0.498969</td>\n",
       "      <td>1.000000</td>\n",
       "      <td>0.092976</td>\n",
       "      <td>0.044203</td>\n",
       "      <td>0.020191</td>\n",
       "      <td>-0.097245</td>\n",
       "      <td>-0.013992</td>\n",
       "      <td>-0.048743</td>\n",
       "      <td>0.096209</td>\n",
       "      <td>0.182382</td>\n",
       "      <td>0.182211</td>\n",
       "      <td>-0.002020</td>\n",
       "      <td>0.065237</td>\n",
       "      <td>-0.024859</td>\n",
       "      <td>0.068192</td>\n",
       "    </tr>\n",
       "    <tr>\n",
       "      <th>adults</th>\n",
       "      <td>0.060017</td>\n",
       "      <td>0.119519</td>\n",
       "      <td>0.029635</td>\n",
       "      <td>0.025909</td>\n",
       "      <td>-0.001566</td>\n",
       "      <td>0.091871</td>\n",
       "      <td>0.092976</td>\n",
       "      <td>1.000000</td>\n",
       "      <td>0.030447</td>\n",
       "      <td>0.018146</td>\n",
       "      <td>-0.146426</td>\n",
       "      <td>-0.006738</td>\n",
       "      <td>-0.107983</td>\n",
       "      <td>-0.051673</td>\n",
       "      <td>-0.035594</td>\n",
       "      <td>0.207793</td>\n",
       "      <td>-0.008283</td>\n",
       "      <td>0.230641</td>\n",
       "      <td>0.014785</td>\n",
       "      <td>0.122884</td>\n",
       "    </tr>\n",
       "    <tr>\n",
       "      <th>children</th>\n",
       "      <td>0.005048</td>\n",
       "      <td>-0.037622</td>\n",
       "      <td>0.054624</td>\n",
       "      <td>0.005518</td>\n",
       "      <td>0.014544</td>\n",
       "      <td>0.045793</td>\n",
       "      <td>0.044203</td>\n",
       "      <td>0.030447</td>\n",
       "      <td>1.000000</td>\n",
       "      <td>0.024030</td>\n",
       "      <td>-0.032859</td>\n",
       "      <td>-0.024730</td>\n",
       "      <td>-0.021072</td>\n",
       "      <td>0.048949</td>\n",
       "      <td>0.041066</td>\n",
       "      <td>0.030931</td>\n",
       "      <td>-0.033273</td>\n",
       "      <td>0.324854</td>\n",
       "      <td>0.056253</td>\n",
       "      <td>0.081745</td>\n",
       "    </tr>\n",
       "    <tr>\n",
       "      <th>babies</th>\n",
       "      <td>-0.032491</td>\n",
       "      <td>-0.020915</td>\n",
       "      <td>-0.013192</td>\n",
       "      <td>0.010395</td>\n",
       "      <td>-0.000230</td>\n",
       "      <td>0.018483</td>\n",
       "      <td>0.020191</td>\n",
       "      <td>0.018146</td>\n",
       "      <td>0.024030</td>\n",
       "      <td>1.000000</td>\n",
       "      <td>-0.008943</td>\n",
       "      <td>-0.007501</td>\n",
       "      <td>-0.006550</td>\n",
       "      <td>0.083440</td>\n",
       "      <td>0.036184</td>\n",
       "      <td>0.019206</td>\n",
       "      <td>-0.010621</td>\n",
       "      <td>0.029186</td>\n",
       "      <td>0.037383</td>\n",
       "      <td>0.097889</td>\n",
       "    </tr>\n",
       "    <tr>\n",
       "      <th>is_repeated_guest</th>\n",
       "      <td>-0.084793</td>\n",
       "      <td>-0.124410</td>\n",
       "      <td>0.010341</td>\n",
       "      <td>-0.030131</td>\n",
       "      <td>-0.006145</td>\n",
       "      <td>-0.087239</td>\n",
       "      <td>-0.097245</td>\n",
       "      <td>-0.146426</td>\n",
       "      <td>-0.032859</td>\n",
       "      <td>-0.008943</td>\n",
       "      <td>1.000000</td>\n",
       "      <td>0.082293</td>\n",
       "      <td>0.418056</td>\n",
       "      <td>0.012092</td>\n",
       "      <td>0.031527</td>\n",
       "      <td>-0.244586</td>\n",
       "      <td>-0.022235</td>\n",
       "      <td>-0.134314</td>\n",
       "      <td>0.077090</td>\n",
       "      <td>0.013050</td>\n",
       "    </tr>\n",
       "    <tr>\n",
       "      <th>previous_cancellations</th>\n",
       "      <td>0.110133</td>\n",
       "      <td>0.086042</td>\n",
       "      <td>-0.119822</td>\n",
       "      <td>0.035501</td>\n",
       "      <td>-0.027011</td>\n",
       "      <td>-0.012775</td>\n",
       "      <td>-0.013992</td>\n",
       "      <td>-0.006738</td>\n",
       "      <td>-0.024730</td>\n",
       "      <td>-0.007501</td>\n",
       "      <td>0.082293</td>\n",
       "      <td>1.000000</td>\n",
       "      <td>0.152728</td>\n",
       "      <td>-0.026993</td>\n",
       "      <td>-0.012488</td>\n",
       "      <td>-0.184574</td>\n",
       "      <td>0.005929</td>\n",
       "      <td>-0.065646</td>\n",
       "      <td>-0.018492</td>\n",
       "      <td>-0.048384</td>\n",
       "    </tr>\n",
       "    <tr>\n",
       "      <th>previous_bookings_not_canceled</th>\n",
       "      <td>-0.057358</td>\n",
       "      <td>-0.073548</td>\n",
       "      <td>0.029218</td>\n",
       "      <td>-0.020904</td>\n",
       "      <td>-0.000300</td>\n",
       "      <td>-0.042715</td>\n",
       "      <td>-0.048743</td>\n",
       "      <td>-0.107983</td>\n",
       "      <td>-0.021072</td>\n",
       "      <td>-0.006550</td>\n",
       "      <td>0.418056</td>\n",
       "      <td>0.152728</td>\n",
       "      <td>1.000000</td>\n",
       "      <td>0.011608</td>\n",
       "      <td>0.023252</td>\n",
       "      <td>-0.208557</td>\n",
       "      <td>-0.009397</td>\n",
       "      <td>-0.072144</td>\n",
       "      <td>0.047653</td>\n",
       "      <td>0.037824</td>\n",
       "    </tr>\n",
       "    <tr>\n",
       "      <th>booking_changes</th>\n",
       "      <td>-0.144381</td>\n",
       "      <td>0.000149</td>\n",
       "      <td>0.030872</td>\n",
       "      <td>0.005508</td>\n",
       "      <td>0.010613</td>\n",
       "      <td>0.063281</td>\n",
       "      <td>0.096209</td>\n",
       "      <td>-0.051673</td>\n",
       "      <td>0.048949</td>\n",
       "      <td>0.083440</td>\n",
       "      <td>0.012092</td>\n",
       "      <td>-0.026993</td>\n",
       "      <td>0.011608</td>\n",
       "      <td>1.000000</td>\n",
       "      <td>0.067010</td>\n",
       "      <td>0.122098</td>\n",
       "      <td>-0.011634</td>\n",
       "      <td>0.019618</td>\n",
       "      <td>0.065620</td>\n",
       "      <td>0.052833</td>\n",
       "    </tr>\n",
       "    <tr>\n",
       "      <th>agent</th>\n",
       "      <td>-0.083114</td>\n",
       "      <td>-0.069741</td>\n",
       "      <td>0.063457</td>\n",
       "      <td>-0.031201</td>\n",
       "      <td>0.001487</td>\n",
       "      <td>0.140739</td>\n",
       "      <td>0.182382</td>\n",
       "      <td>-0.035594</td>\n",
       "      <td>0.041066</td>\n",
       "      <td>0.036184</td>\n",
       "      <td>0.031527</td>\n",
       "      <td>-0.012488</td>\n",
       "      <td>0.023252</td>\n",
       "      <td>0.067010</td>\n",
       "      <td>1.000000</td>\n",
       "      <td>0.350746</td>\n",
       "      <td>-0.055151</td>\n",
       "      <td>-0.024695</td>\n",
       "      <td>0.177353</td>\n",
       "      <td>0.034162</td>\n",
       "    </tr>\n",
       "    <tr>\n",
       "      <th>company</th>\n",
       "      <td>-0.020642</td>\n",
       "      <td>0.151464</td>\n",
       "      <td>0.259095</td>\n",
       "      <td>-0.076760</td>\n",
       "      <td>0.044858</td>\n",
       "      <td>0.066749</td>\n",
       "      <td>0.182211</td>\n",
       "      <td>0.207793</td>\n",
       "      <td>0.030931</td>\n",
       "      <td>0.019206</td>\n",
       "      <td>-0.244586</td>\n",
       "      <td>-0.184574</td>\n",
       "      <td>-0.208557</td>\n",
       "      <td>0.122098</td>\n",
       "      <td>0.350746</td>\n",
       "      <td>1.000000</td>\n",
       "      <td>0.000411</td>\n",
       "      <td>0.086376</td>\n",
       "      <td>-0.012916</td>\n",
       "      <td>-0.098558</td>\n",
       "    </tr>\n",
       "    <tr>\n",
       "      <th>days_in_waiting_list</th>\n",
       "      <td>0.054186</td>\n",
       "      <td>0.170084</td>\n",
       "      <td>-0.056497</td>\n",
       "      <td>0.022933</td>\n",
       "      <td>0.022728</td>\n",
       "      <td>-0.054151</td>\n",
       "      <td>-0.002020</td>\n",
       "      <td>-0.008283</td>\n",
       "      <td>-0.033273</td>\n",
       "      <td>-0.010621</td>\n",
       "      <td>-0.022235</td>\n",
       "      <td>0.005929</td>\n",
       "      <td>-0.009397</td>\n",
       "      <td>-0.011634</td>\n",
       "      <td>-0.055151</td>\n",
       "      <td>0.000411</td>\n",
       "      <td>1.000000</td>\n",
       "      <td>-0.040756</td>\n",
       "      <td>-0.030600</td>\n",
       "      <td>-0.082730</td>\n",
       "    </tr>\n",
       "    <tr>\n",
       "      <th>adr</th>\n",
       "      <td>0.047557</td>\n",
       "      <td>-0.063077</td>\n",
       "      <td>0.197580</td>\n",
       "      <td>0.075791</td>\n",
       "      <td>0.030245</td>\n",
       "      <td>0.049342</td>\n",
       "      <td>0.065237</td>\n",
       "      <td>0.230641</td>\n",
       "      <td>0.324854</td>\n",
       "      <td>0.029186</td>\n",
       "      <td>-0.134314</td>\n",
       "      <td>-0.065646</td>\n",
       "      <td>-0.072144</td>\n",
       "      <td>0.019618</td>\n",
       "      <td>-0.024695</td>\n",
       "      <td>0.086376</td>\n",
       "      <td>-0.040756</td>\n",
       "      <td>1.000000</td>\n",
       "      <td>0.056628</td>\n",
       "      <td>0.172185</td>\n",
       "    </tr>\n",
       "    <tr>\n",
       "      <th>required_car_parking_spaces</th>\n",
       "      <td>-0.195498</td>\n",
       "      <td>-0.116451</td>\n",
       "      <td>-0.013684</td>\n",
       "      <td>0.001920</td>\n",
       "      <td>0.008683</td>\n",
       "      <td>-0.018554</td>\n",
       "      <td>-0.024859</td>\n",
       "      <td>0.014785</td>\n",
       "      <td>0.056253</td>\n",
       "      <td>0.037383</td>\n",
       "      <td>0.077090</td>\n",
       "      <td>-0.018492</td>\n",
       "      <td>0.047653</td>\n",
       "      <td>0.065620</td>\n",
       "      <td>0.177353</td>\n",
       "      <td>-0.012916</td>\n",
       "      <td>-0.030600</td>\n",
       "      <td>0.056628</td>\n",
       "      <td>1.000000</td>\n",
       "      <td>0.082626</td>\n",
       "    </tr>\n",
       "    <tr>\n",
       "      <th>total_of_special_requests</th>\n",
       "      <td>-0.234658</td>\n",
       "      <td>-0.095712</td>\n",
       "      <td>0.108531</td>\n",
       "      <td>0.026149</td>\n",
       "      <td>0.003062</td>\n",
       "      <td>0.072671</td>\n",
       "      <td>0.068192</td>\n",
       "      <td>0.122884</td>\n",
       "      <td>0.081745</td>\n",
       "      <td>0.097889</td>\n",
       "      <td>0.013050</td>\n",
       "      <td>-0.048384</td>\n",
       "      <td>0.037824</td>\n",
       "      <td>0.052833</td>\n",
       "      <td>0.034162</td>\n",
       "      <td>-0.098558</td>\n",
       "      <td>-0.082730</td>\n",
       "      <td>0.172185</td>\n",
       "      <td>0.082626</td>\n",
       "      <td>1.000000</td>\n",
       "    </tr>\n",
       "  </tbody>\n",
       "</table>\n",
       "</div>"
      ],
      "text/plain": [
       "                                is_canceled  lead_time  arrival_date_year  \\\n",
       "is_canceled                        1.000000   0.293123           0.016660   \n",
       "lead_time                          0.293123   1.000000           0.040142   \n",
       "arrival_date_year                  0.016660   0.040142           1.000000   \n",
       "arrival_date_week_number           0.008148   0.126871          -0.540561   \n",
       "arrival_date_day_of_month         -0.006130   0.002268          -0.000221   \n",
       "stays_in_weekend_nights           -0.001791   0.085671           0.021497   \n",
       "stays_in_week_nights               0.024765   0.165799           0.030883   \n",
       "adults                             0.060017   0.119519           0.029635   \n",
       "children                           0.005048  -0.037622           0.054624   \n",
       "babies                            -0.032491  -0.020915          -0.013192   \n",
       "is_repeated_guest                 -0.084793  -0.124410           0.010341   \n",
       "previous_cancellations             0.110133   0.086042          -0.119822   \n",
       "previous_bookings_not_canceled    -0.057358  -0.073548           0.029218   \n",
       "booking_changes                   -0.144381   0.000149           0.030872   \n",
       "agent                             -0.083114  -0.069741           0.063457   \n",
       "company                           -0.020642   0.151464           0.259095   \n",
       "days_in_waiting_list               0.054186   0.170084          -0.056497   \n",
       "adr                                0.047557  -0.063077           0.197580   \n",
       "required_car_parking_spaces       -0.195498  -0.116451          -0.013684   \n",
       "total_of_special_requests         -0.234658  -0.095712           0.108531   \n",
       "\n",
       "                                arrival_date_week_number  \\\n",
       "is_canceled                                     0.008148   \n",
       "lead_time                                       0.126871   \n",
       "arrival_date_year                              -0.540561   \n",
       "arrival_date_week_number                        1.000000   \n",
       "arrival_date_day_of_month                       0.066809   \n",
       "stays_in_weekend_nights                         0.018208   \n",
       "stays_in_week_nights                            0.015558   \n",
       "adults                                          0.025909   \n",
       "children                                        0.005518   \n",
       "babies                                          0.010395   \n",
       "is_repeated_guest                              -0.030131   \n",
       "previous_cancellations                          0.035501   \n",
       "previous_bookings_not_canceled                 -0.020904   \n",
       "booking_changes                                 0.005508   \n",
       "agent                                          -0.031201   \n",
       "company                                        -0.076760   \n",
       "days_in_waiting_list                            0.022933   \n",
       "adr                                             0.075791   \n",
       "required_car_parking_spaces                     0.001920   \n",
       "total_of_special_requests                       0.026149   \n",
       "\n",
       "                                arrival_date_day_of_month  \\\n",
       "is_canceled                                     -0.006130   \n",
       "lead_time                                        0.002268   \n",
       "arrival_date_year                               -0.000221   \n",
       "arrival_date_week_number                         0.066809   \n",
       "arrival_date_day_of_month                        1.000000   \n",
       "stays_in_weekend_nights                         -0.016354   \n",
       "stays_in_week_nights                            -0.028174   \n",
       "adults                                          -0.001566   \n",
       "children                                         0.014544   \n",
       "babies                                          -0.000230   \n",
       "is_repeated_guest                               -0.006145   \n",
       "previous_cancellations                          -0.027011   \n",
       "previous_bookings_not_canceled                  -0.000300   \n",
       "booking_changes                                  0.010613   \n",
       "agent                                            0.001487   \n",
       "company                                          0.044858   \n",
       "days_in_waiting_list                             0.022728   \n",
       "adr                                              0.030245   \n",
       "required_car_parking_spaces                      0.008683   \n",
       "total_of_special_requests                        0.003062   \n",
       "\n",
       "                                stays_in_weekend_nights  stays_in_week_nights  \\\n",
       "is_canceled                                   -0.001791              0.024765   \n",
       "lead_time                                      0.085671              0.165799   \n",
       "arrival_date_year                              0.021497              0.030883   \n",
       "arrival_date_week_number                       0.018208              0.015558   \n",
       "arrival_date_day_of_month                     -0.016354             -0.028174   \n",
       "stays_in_weekend_nights                        1.000000              0.498969   \n",
       "stays_in_week_nights                           0.498969              1.000000   \n",
       "adults                                         0.091871              0.092976   \n",
       "children                                       0.045793              0.044203   \n",
       "babies                                         0.018483              0.020191   \n",
       "is_repeated_guest                             -0.087239             -0.097245   \n",
       "previous_cancellations                        -0.012775             -0.013992   \n",
       "previous_bookings_not_canceled                -0.042715             -0.048743   \n",
       "booking_changes                                0.063281              0.096209   \n",
       "agent                                          0.140739              0.182382   \n",
       "company                                        0.066749              0.182211   \n",
       "days_in_waiting_list                          -0.054151             -0.002020   \n",
       "adr                                            0.049342              0.065237   \n",
       "required_car_parking_spaces                   -0.018554             -0.024859   \n",
       "total_of_special_requests                      0.072671              0.068192   \n",
       "\n",
       "                                  adults  children    babies  \\\n",
       "is_canceled                     0.060017  0.005048 -0.032491   \n",
       "lead_time                       0.119519 -0.037622 -0.020915   \n",
       "arrival_date_year               0.029635  0.054624 -0.013192   \n",
       "arrival_date_week_number        0.025909  0.005518  0.010395   \n",
       "arrival_date_day_of_month      -0.001566  0.014544 -0.000230   \n",
       "stays_in_weekend_nights         0.091871  0.045793  0.018483   \n",
       "stays_in_week_nights            0.092976  0.044203  0.020191   \n",
       "adults                          1.000000  0.030447  0.018146   \n",
       "children                        0.030447  1.000000  0.024030   \n",
       "babies                          0.018146  0.024030  1.000000   \n",
       "is_repeated_guest              -0.146426 -0.032859 -0.008943   \n",
       "previous_cancellations         -0.006738 -0.024730 -0.007501   \n",
       "previous_bookings_not_canceled -0.107983 -0.021072 -0.006550   \n",
       "booking_changes                -0.051673  0.048949  0.083440   \n",
       "agent                          -0.035594  0.041066  0.036184   \n",
       "company                         0.207793  0.030931  0.019206   \n",
       "days_in_waiting_list           -0.008283 -0.033273 -0.010621   \n",
       "adr                             0.230641  0.324854  0.029186   \n",
       "required_car_parking_spaces     0.014785  0.056253  0.037383   \n",
       "total_of_special_requests       0.122884  0.081745  0.097889   \n",
       "\n",
       "                                is_repeated_guest  previous_cancellations  \\\n",
       "is_canceled                             -0.084793                0.110133   \n",
       "lead_time                               -0.124410                0.086042   \n",
       "arrival_date_year                        0.010341               -0.119822   \n",
       "arrival_date_week_number                -0.030131                0.035501   \n",
       "arrival_date_day_of_month               -0.006145               -0.027011   \n",
       "stays_in_weekend_nights                 -0.087239               -0.012775   \n",
       "stays_in_week_nights                    -0.097245               -0.013992   \n",
       "adults                                  -0.146426               -0.006738   \n",
       "children                                -0.032859               -0.024730   \n",
       "babies                                  -0.008943               -0.007501   \n",
       "is_repeated_guest                        1.000000                0.082293   \n",
       "previous_cancellations                   0.082293                1.000000   \n",
       "previous_bookings_not_canceled           0.418056                0.152728   \n",
       "booking_changes                          0.012092               -0.026993   \n",
       "agent                                    0.031527               -0.012488   \n",
       "company                                 -0.244586               -0.184574   \n",
       "days_in_waiting_list                    -0.022235                0.005929   \n",
       "adr                                     -0.134314               -0.065646   \n",
       "required_car_parking_spaces              0.077090               -0.018492   \n",
       "total_of_special_requests                0.013050               -0.048384   \n",
       "\n",
       "                                previous_bookings_not_canceled  \\\n",
       "is_canceled                                          -0.057358   \n",
       "lead_time                                            -0.073548   \n",
       "arrival_date_year                                     0.029218   \n",
       "arrival_date_week_number                             -0.020904   \n",
       "arrival_date_day_of_month                            -0.000300   \n",
       "stays_in_weekend_nights                              -0.042715   \n",
       "stays_in_week_nights                                 -0.048743   \n",
       "adults                                               -0.107983   \n",
       "children                                             -0.021072   \n",
       "babies                                               -0.006550   \n",
       "is_repeated_guest                                     0.418056   \n",
       "previous_cancellations                                0.152728   \n",
       "previous_bookings_not_canceled                        1.000000   \n",
       "booking_changes                                       0.011608   \n",
       "agent                                                 0.023252   \n",
       "company                                              -0.208557   \n",
       "days_in_waiting_list                                 -0.009397   \n",
       "adr                                                  -0.072144   \n",
       "required_car_parking_spaces                           0.047653   \n",
       "total_of_special_requests                             0.037824   \n",
       "\n",
       "                                booking_changes     agent   company  \\\n",
       "is_canceled                           -0.144381 -0.083114 -0.020642   \n",
       "lead_time                              0.000149 -0.069741  0.151464   \n",
       "arrival_date_year                      0.030872  0.063457  0.259095   \n",
       "arrival_date_week_number               0.005508 -0.031201 -0.076760   \n",
       "arrival_date_day_of_month              0.010613  0.001487  0.044858   \n",
       "stays_in_weekend_nights                0.063281  0.140739  0.066749   \n",
       "stays_in_week_nights                   0.096209  0.182382  0.182211   \n",
       "adults                                -0.051673 -0.035594  0.207793   \n",
       "children                               0.048949  0.041066  0.030931   \n",
       "babies                                 0.083440  0.036184  0.019206   \n",
       "is_repeated_guest                      0.012092  0.031527 -0.244586   \n",
       "previous_cancellations                -0.026993 -0.012488 -0.184574   \n",
       "previous_bookings_not_canceled         0.011608  0.023252 -0.208557   \n",
       "booking_changes                        1.000000  0.067010  0.122098   \n",
       "agent                                  0.067010  1.000000  0.350746   \n",
       "company                                0.122098  0.350746  1.000000   \n",
       "days_in_waiting_list                  -0.011634 -0.055151  0.000411   \n",
       "adr                                    0.019618 -0.024695  0.086376   \n",
       "required_car_parking_spaces            0.065620  0.177353 -0.012916   \n",
       "total_of_special_requests              0.052833  0.034162 -0.098558   \n",
       "\n",
       "                                days_in_waiting_list       adr  \\\n",
       "is_canceled                                 0.054186  0.047557   \n",
       "lead_time                                   0.170084 -0.063077   \n",
       "arrival_date_year                          -0.056497  0.197580   \n",
       "arrival_date_week_number                    0.022933  0.075791   \n",
       "arrival_date_day_of_month                   0.022728  0.030245   \n",
       "stays_in_weekend_nights                    -0.054151  0.049342   \n",
       "stays_in_week_nights                       -0.002020  0.065237   \n",
       "adults                                     -0.008283  0.230641   \n",
       "children                                   -0.033273  0.324854   \n",
       "babies                                     -0.010621  0.029186   \n",
       "is_repeated_guest                          -0.022235 -0.134314   \n",
       "previous_cancellations                      0.005929 -0.065646   \n",
       "previous_bookings_not_canceled             -0.009397 -0.072144   \n",
       "booking_changes                            -0.011634  0.019618   \n",
       "agent                                      -0.055151 -0.024695   \n",
       "company                                     0.000411  0.086376   \n",
       "days_in_waiting_list                        1.000000 -0.040756   \n",
       "adr                                        -0.040756  1.000000   \n",
       "required_car_parking_spaces                -0.030600  0.056628   \n",
       "total_of_special_requests                  -0.082730  0.172185   \n",
       "\n",
       "                                required_car_parking_spaces  \\\n",
       "is_canceled                                       -0.195498   \n",
       "lead_time                                         -0.116451   \n",
       "arrival_date_year                                 -0.013684   \n",
       "arrival_date_week_number                           0.001920   \n",
       "arrival_date_day_of_month                          0.008683   \n",
       "stays_in_weekend_nights                           -0.018554   \n",
       "stays_in_week_nights                              -0.024859   \n",
       "adults                                             0.014785   \n",
       "children                                           0.056253   \n",
       "babies                                             0.037383   \n",
       "is_repeated_guest                                  0.077090   \n",
       "previous_cancellations                            -0.018492   \n",
       "previous_bookings_not_canceled                     0.047653   \n",
       "booking_changes                                    0.065620   \n",
       "agent                                              0.177353   \n",
       "company                                           -0.012916   \n",
       "days_in_waiting_list                              -0.030600   \n",
       "adr                                                0.056628   \n",
       "required_car_parking_spaces                        1.000000   \n",
       "total_of_special_requests                          0.082626   \n",
       "\n",
       "                                total_of_special_requests  \n",
       "is_canceled                                     -0.234658  \n",
       "lead_time                                       -0.095712  \n",
       "arrival_date_year                                0.108531  \n",
       "arrival_date_week_number                         0.026149  \n",
       "arrival_date_day_of_month                        0.003062  \n",
       "stays_in_weekend_nights                          0.072671  \n",
       "stays_in_week_nights                             0.068192  \n",
       "adults                                           0.122884  \n",
       "children                                         0.081745  \n",
       "babies                                           0.097889  \n",
       "is_repeated_guest                                0.013050  \n",
       "previous_cancellations                          -0.048384  \n",
       "previous_bookings_not_canceled                   0.037824  \n",
       "booking_changes                                  0.052833  \n",
       "agent                                            0.034162  \n",
       "company                                         -0.098558  \n",
       "days_in_waiting_list                            -0.082730  \n",
       "adr                                              0.172185  \n",
       "required_car_parking_spaces                      0.082626  \n",
       "total_of_special_requests                        1.000000  "
      ]
     },
     "execution_count": 162,
     "metadata": {},
     "output_type": "execute_result"
    }
   ],
   "source": [
    "df.corr()"
   ]
  },
  {
   "cell_type": "markdown",
   "id": "61d5e41f",
   "metadata": {},
   "source": [
    "### Data Visiualization"
   ]
  },
  {
   "cell_type": "code",
   "execution_count": 163,
   "id": "f468d657",
   "metadata": {},
   "outputs": [],
   "source": [
    "#sns.pairplot(df)"
   ]
  },
  {
   "cell_type": "code",
   "execution_count": 164,
   "id": "7edaf17f",
   "metadata": {},
   "outputs": [
    {
     "data": {
      "text/plain": [
       "<AxesSubplot:xlabel='deposit_type', ylabel='adr'>"
      ]
     },
     "execution_count": 164,
     "metadata": {},
     "output_type": "execute_result"
    },
    {
     "data": {
      "image/png": "[encoded data removed]",
      "text/plain": [
       "<Figure size 432x288 with 1 Axes>"
      ]
     },
     "metadata": {
      "needs_background": "light"
     },
     "output_type": "display_data"
    }
   ],
   "source": [
    "sns.barplot(x=\"deposit_type\",y=\"adr\",data=df)"
   ]
  },
  {
   "cell_type": "code",
   "execution_count": 165,
   "id": "845180b8",
   "metadata": {},
   "outputs": [
    {
     "data": {
      "text/plain": [
       "<AxesSubplot:xlabel='children', ylabel='is_canceled'>"
      ]
     },
     "execution_count": 165,
     "metadata": {},
     "output_type": "execute_result"
    },
    {
     "data": {
      "image/png": "[encoded data removed]",
      "text/plain": [
       "<Figure size 432x288 with 1 Axes>"
      ]
     },
     "metadata": {
      "needs_background": "light"
     },
     "output_type": "display_data"
    }
   ],
   "source": [
    "sns.stripplot(x=\"children\",y=\"is_canceled\",data=df)"
   ]
  },
  {
   "cell_type": "code",
   "execution_count": 166,
   "id": "a87b6e48",
   "metadata": {},
   "outputs": [
    {
     "name": "stdout",
     "output_type": "stream",
     "text": [
      "<class 'pandas.core.frame.DataFrame'>\n",
      "RangeIndex: 119390 entries, 0 to 119389\n",
      "Data columns (total 32 columns):\n",
      " #   Column                          Non-Null Count   Dtype         \n",
      "---  ------                          --------------   -----         \n",
      " 0   hotel                           119390 non-null  object        \n",
      " 1   is_canceled                     119390 non-null  int64         \n",
      " 2   lead_time                       119390 non-null  int64         \n",
      " 3   arrival_date_year               119390 non-null  int64         \n",
      " 4   arrival_date_month              119390 non-null  object        \n",
      " 5   arrival_date_week_number        119390 non-null  int64         \n",
      " 6   arrival_date_day_of_month       119390 non-null  int64         \n",
      " 7   stays_in_weekend_nights         119390 non-null  int64         \n",
      " 8   stays_in_week_nights            119390 non-null  int64         \n",
      " 9   adults                          119390 non-null  int64         \n",
      " 10  children                        119386 non-null  float64       \n",
      " 11  babies                          119390 non-null  int64         \n",
      " 12  meal                            119390 non-null  object        \n",
      " 13  country                         118902 non-null  object        \n",
      " 14  market_segment                  119390 non-null  object        \n",
      " 15  distribution_channel            119390 non-null  object        \n",
      " 16  is_repeated_guest               119390 non-null  int64         \n",
      " 17  previous_cancellations          119390 non-null  int64         \n",
      " 18  previous_bookings_not_canceled  119390 non-null  int64         \n",
      " 19  reserved_room_type              119390 non-null  object        \n",
      " 20  assigned_room_type              119390 non-null  object        \n",
      " 21  booking_changes                 119390 non-null  int64         \n",
      " 22  deposit_type                    119390 non-null  object        \n",
      " 23  agent                           103050 non-null  float64       \n",
      " 24  company                         6797 non-null    float64       \n",
      " 25  days_in_waiting_list            119390 non-null  int64         \n",
      " 26  customer_type                   119390 non-null  object        \n",
      " 27  adr                             119390 non-null  float64       \n",
      " 28  required_car_parking_spaces     119390 non-null  int64         \n",
      " 29  total_of_special_requests       119390 non-null  int64         \n",
      " 30  reservation_status              119390 non-null  object        \n",
      " 31  reservation_status_date         119390 non-null  datetime64[ns]\n",
      "dtypes: datetime64[ns](1), float64(4), int64(16), object(11)\n",
      "memory usage: 29.1+ MB\n"
     ]
    }
   ],
   "source": [
    "df.info()"
   ]
  },
  {
   "cell_type": "code",
   "execution_count": 167,
   "id": "aaa3b2c2",
   "metadata": {},
   "outputs": [
    {
     "data": {
      "image/png": "[encoded data removed]",
      "text/plain": [
       "<Figure size 1440x2160 with 18 Axes>"
      ]
     },
     "metadata": {
      "needs_background": "light"
     },
     "output_type": "display_data"
    }
   ],
   "source": [
    "plt.figure(figsize=(20,30))\n",
    "def countplot(i,var):\n",
    "    plt.subplot(6,3,i)\n",
    "    sns.countplot(df[var],hue=df[\"is_canceled\"])\n",
    "    if var==\"arrival_date_month\":\n",
    "        plt.xticks(rotation=90)\n",
    "var=[\"hotel\",\"adults\",\"babies\",\"stays_in_week_nights\",\"children\",\"previous_cancellations\",\"booking_changes\",\"total_of_special_requests\",\"is_canceled\",\"reserved_room_type\",\"meal\",\"arrival_date_month\",\"distribution_channel\",\"reservation_status\",\"customer_type\",\"deposit_type\",\"assigned_room_type\",\"is_repeated_guest\"]\n",
    "for i in range(len(var)):\n",
    "    countplot(i+1,var[i])\n",
    "\n"
   ]
  },
  {
   "cell_type": "code",
   "execution_count": 168,
   "id": "b90491b3",
   "metadata": {},
   "outputs": [
    {
     "data": {
      "text/plain": [
       "array(['C', 'A', 'D', 'E', 'G', 'F', 'H', 'L', 'P', 'B'], dtype=object)"
      ]
     },
     "execution_count": 168,
     "metadata": {},
     "output_type": "execute_result"
    }
   ],
   "source": [
    "df.reserved_room_type.unique()"
   ]
  },
  {
   "cell_type": "code",
   "execution_count": 169,
   "id": "c4153b34",
   "metadata": {},
   "outputs": [
    {
     "data": {
      "text/plain": [
       "<AxesSubplot:xlabel='adr', ylabel='is_canceled'>"
      ]
     },
     "execution_count": 169,
     "metadata": {},
     "output_type": "execute_result"
    },
    {
     "data": {
      "image/png": "[encoded data removed]",
      "text/plain": [
       "<Figure size 432x288 with 1 Axes>"
      ]
     },
     "metadata": {
      "needs_background": "light"
     },
     "output_type": "display_data"
    }
   ],
   "source": [
    "sns.scatterplot(\"adr\",df[\"is_canceled\"].astype(str),data=df)"
   ]
  },
  {
   "cell_type": "code",
   "execution_count": 170,
   "id": "dcd49e53",
   "metadata": {},
   "outputs": [
    {
     "data": {
      "text/plain": [
       "0           0.00\n",
       "1           0.00\n",
       "2          75.00\n",
       "3          75.00\n",
       "4          98.00\n",
       "           ...  \n",
       "119385     96.14\n",
       "119386    225.43\n",
       "119387    157.71\n",
       "119388    104.40\n",
       "119389    151.20\n",
       "Name: adr, Length: 119390, dtype: float64"
      ]
     },
     "execution_count": 170,
     "metadata": {},
     "output_type": "execute_result"
    }
   ],
   "source": [
    "df.adr"
   ]
  },
  {
   "cell_type": "code",
   "execution_count": 171,
   "id": "17121a1d",
   "metadata": {},
   "outputs": [
    {
     "data": {
      "text/plain": [
       "<AxesSubplot:xlabel='adr', ylabel='is_canceled'>"
      ]
     },
     "execution_count": 171,
     "metadata": {},
     "output_type": "execute_result"
    },
    {
     "data": {
      "image/png": "[encoded data removed]",
      "text/plain": [
       "<Figure size 432x288 with 1 Axes>"
      ]
     },
     "metadata": {
      "needs_background": "light"
     },
     "output_type": "display_data"
    }
   ],
   "source": [
    "sns.barplot(df[\"adr\"],df[\"is_canceled\"].astype(str),data=df)"
   ]
  },
  {
   "cell_type": "code",
   "execution_count": 172,
   "id": "6b2a0122",
   "metadata": {},
   "outputs": [
    {
     "data": {
      "text/plain": [
       "<AxesSubplot:xlabel='adr', ylabel='lead_time'>"
      ]
     },
     "execution_count": 172,
     "metadata": {},
     "output_type": "execute_result"
    },
    {
     "data": {
      "image/png": "[encoded data removed]",
      "text/plain": [
       "<Figure size 432x288 with 1 Axes>"
      ]
     },
     "metadata": {
      "needs_background": "light"
     },
     "output_type": "display_data"
    }
   ],
   "source": [
    "sns.scatterplot(\"adr\",\"lead_time\",data=df)"
   ]
  },
  {
   "cell_type": "code",
   "execution_count": 173,
   "id": "9e865438",
   "metadata": {},
   "outputs": [
    {
     "data": {
      "text/plain": [
       "<AxesSubplot:xlabel='lead_time', ylabel='is_canceled'>"
      ]
     },
     "execution_count": 173,
     "metadata": {},
     "output_type": "execute_result"
    },
    {
     "data": {
      "image/png": "[encoded data removed]",
      "text/plain": [
       "<Figure size 432x288 with 1 Axes>"
      ]
     },
     "metadata": {
      "needs_background": "light"
     },
     "output_type": "display_data"
    }
   ],
   "source": [
    "sns.scatterplot(\"lead_time\",df[\"is_canceled\"].astype(str),data=df)"
   ]
  },
  {
   "cell_type": "code",
   "execution_count": 174,
   "id": "0b8c0996",
   "metadata": {},
   "outputs": [
    {
     "data": {
      "text/plain": [
       "<AxesSubplot:xlabel='arrival_date_week_number', ylabel='is_canceled'>"
      ]
     },
     "execution_count": 174,
     "metadata": {},
     "output_type": "execute_result"
    },
    {
     "data": {
      "image/png": "[encoded data removed]",
      "text/plain": [
       "<Figure size 432x288 with 1 Axes>"
      ]
     },
     "metadata": {
      "needs_background": "light"
     },
     "output_type": "display_data"
    }
   ],
   "source": [
    "sns.scatterplot(\"arrival_date_week_number\",df[\"is_canceled\"].astype(str),data=df)"
   ]
  },
  {
   "cell_type": "code",
   "execution_count": 175,
   "id": "d0eea64c",
   "metadata": {},
   "outputs": [
    {
     "data": {
      "text/plain": [
       "August       13877\n",
       "July         12661\n",
       "May          11791\n",
       "October      11160\n",
       "April        11089\n",
       "June         10939\n",
       "September    10508\n",
       "March         9794\n",
       "February      8068\n",
       "November      6794\n",
       "December      6780\n",
       "January       5929\n",
       "Name: arrival_date_month, dtype: int64"
      ]
     },
     "execution_count": 175,
     "metadata": {},
     "output_type": "execute_result"
    }
   ],
   "source": [
    "df.arrival_date_month.value_counts()\n"
   ]
  },
  {
   "cell_type": "code",
   "execution_count": 176,
   "id": "65e28cbc",
   "metadata": {},
   "outputs": [
    {
     "data": {
      "image/png": "[encoded data removed]",
      "text/plain": [
       "<Figure size 432x288 with 1 Axes>"
      ]
     },
     "metadata": {
      "needs_background": "light"
     },
     "output_type": "display_data"
    }
   ],
   "source": [
    "sns.barplot(y=\"adr\",x=\"arrival_date_month\",data=df)\n",
    "plt.xticks(rotation=90)\n",
    "plt.show()"
   ]
  },
  {
   "cell_type": "code",
   "execution_count": 177,
   "id": "463072d7",
   "metadata": {},
   "outputs": [
    {
     "data": {
      "image/png": "[encoded data removed]",
      "text/plain": [
       "<Figure size 432x288 with 1 Axes>"
      ]
     },
     "metadata": {
      "needs_background": "light"
     },
     "output_type": "display_data"
    }
   ],
   "source": [
    "sns.barplot(y=\"adr\",x=\"arrival_date_month\",hue=\"is_canceled\",data=df)\n",
    "plt.xticks(rotation=90)\n",
    "plt.show()"
   ]
  },
  {
   "cell_type": "code",
   "execution_count": 178,
   "id": "bc8e8d90",
   "metadata": {},
   "outputs": [
    {
     "data": {
      "text/plain": [
       "array([27, 28, 29, 30, 31, 32, 33, 34, 35, 36, 37, 38, 39, 40, 41, 42, 43,\n",
       "       44, 45, 46, 47, 48, 49, 50, 51, 52, 53,  1,  2,  3,  4,  5,  6,  7,\n",
       "        8,  9, 10, 11, 12, 13, 14, 15, 16, 17, 18, 19, 20, 21, 22, 23, 24,\n",
       "       25, 26], dtype=int64)"
      ]
     },
     "execution_count": 178,
     "metadata": {},
     "output_type": "execute_result"
    }
   ],
   "source": [
    "df.arrival_date_week_number.unique()"
   ]
  },
  {
   "cell_type": "code",
   "execution_count": null,
   "id": "42165f90",
   "metadata": {},
   "outputs": [],
   "source": []
  },
  {
   "cell_type": "code",
   "execution_count": 179,
   "id": "e9c5cc66",
   "metadata": {},
   "outputs": [
    {
     "data": {
      "image/png": "[encoded data removed]",
      "text/plain": [
       "<Figure size 432x288 with 1 Axes>"
      ]
     },
     "metadata": {
      "needs_background": "light"
     },
     "output_type": "display_data"
    }
   ],
   "source": [
    "sns.barplot(y=\"adr\",x=\"stays_in_weekend_nights\",data=df)\n",
    "plt.xticks(rotation=90)\n",
    "plt.show()"
   ]
  },
  {
   "cell_type": "code",
   "execution_count": 180,
   "id": "7f33a3c8",
   "metadata": {},
   "outputs": [
    {
     "data": {
      "text/plain": [
       "<AxesSubplot:xlabel='adr', ylabel='hotel'>"
      ]
     },
     "execution_count": 180,
     "metadata": {},
     "output_type": "execute_result"
    },
    {
     "data": {
      "image/png": "[encoded data removed]",
      "text/plain": [
       "<Figure size 432x288 with 1 Axes>"
      ]
     },
     "metadata": {
      "needs_background": "light"
     },
     "output_type": "display_data"
    }
   ],
   "source": [
    "sns.boxplot(df[\"adr\"],df[\"hotel\"],hue=df[\"is_canceled\"],saturation=2, linewidth=.6)"
   ]
  },
  {
   "cell_type": "code",
   "execution_count": 181,
   "id": "32f289cd",
   "metadata": {},
   "outputs": [
    {
     "data": {
      "text/plain": [
       "<AxesSubplot:xlabel='adr'>"
      ]
     },
     "execution_count": 181,
     "metadata": {},
     "output_type": "execute_result"
    },
    {
     "data": {
      "image/png": "[encoded data removed]",
      "text/plain": [
       "<Figure size 432x288 with 1 Axes>"
      ]
     },
     "metadata": {
      "needs_background": "light"
     },
     "output_type": "display_data"
    }
   ],
   "source": [
    "sns.boxplot(df[\"adr\"],color=\"red\",linewidth=.6)"
   ]
  },
  {
   "cell_type": "code",
   "execution_count": 182,
   "id": "b5c8aae3",
   "metadata": {},
   "outputs": [
    {
     "data": {
      "text/plain": [
       "<AxesSubplot:xlabel='lead_time'>"
      ]
     },
     "execution_count": 182,
     "metadata": {},
     "output_type": "execute_result"
    },
    {
     "data": {
      "image/png": "[encoded data removed]",
      "text/plain": [
       "<Figure size 432x288 with 1 Axes>"
      ]
     },
     "metadata": {
      "needs_background": "light"
     },
     "output_type": "display_data"
    }
   ],
   "source": [
    "sns.boxplot(df[\"lead_time\"],color=\"red\",linewidth=.6)"
   ]
  },
  {
   "cell_type": "code",
   "execution_count": 183,
   "id": "be15ed05",
   "metadata": {},
   "outputs": [
    {
     "data": {
      "text/plain": [
       "<AxesSubplot:ylabel='adr'>"
      ]
     },
     "execution_count": 183,
     "metadata": {},
     "output_type": "execute_result"
    },
    {
     "data": {
      "image/png": "[encoded data removed]",
      "text/plain": [
       "<Figure size 432x288 with 1 Axes>"
      ]
     },
     "metadata": {
      "needs_background": "light"
     },
     "output_type": "display_data"
    }
   ],
   "source": [
    "new=pd.Categorical(df[\"is_canceled\"])\n",
    "sns.barplot(new,df[\"adr\"])\n"
   ]
  },
  {
   "cell_type": "code",
   "execution_count": 184,
   "id": "6328cce1",
   "metadata": {},
   "outputs": [
    {
     "data": {
      "text/plain": [
       "<AxesSubplot:xlabel='required_car_parking_spaces', ylabel='adr'>"
      ]
     },
     "execution_count": 184,
     "metadata": {},
     "output_type": "execute_result"
    },
    {
     "data": {
      "image/png": "[encoded data removed]",
      "text/plain": [
       "<Figure size 432x288 with 1 Axes>"
      ]
     },
     "metadata": {
      "needs_background": "light"
     },
     "output_type": "display_data"
    }
   ],
   "source": [
    "sns.barplot(df[\"required_car_parking_spaces\"],df[\"adr\"])"
   ]
  },
  {
   "cell_type": "markdown",
   "id": "372da1d9",
   "metadata": {},
   "source": [
    "#### Checking distribution for continuious features"
   ]
  },
  {
   "cell_type": "code",
   "execution_count": 185,
   "id": "5abb490f",
   "metadata": {},
   "outputs": [
    {
     "data": {
      "image/png": "[encoded data removed]",
      "text/plain": [
       "<Figure size 720x288 with 2 Axes>"
      ]
     },
     "metadata": {
      "needs_background": "light"
     },
     "output_type": "display_data"
    },
    {
     "data": {
      "image/png": "[encoded data removed]",
      "text/plain": [
       "<Figure size 720x288 with 2 Axes>"
      ]
     },
     "metadata": {
      "needs_background": "light"
     },
     "output_type": "display_data"
    },
    {
     "data": {
      "image/png": "[encoded data removed]",
      "text/plain": [
       "<Figure size 720x288 with 2 Axes>"
      ]
     },
     "metadata": {
      "needs_background": "light"
     },
     "output_type": "display_data"
    },
    {
     "data": {
      "image/png": "[encoded data removed]",
      "text/plain": [
       "<Figure size 720x288 with 2 Axes>"
      ]
     },
     "metadata": {
      "needs_background": "light"
     },
     "output_type": "display_data"
    },
    {
     "data": {
      "image/png": "[encoded data removed]",
      "text/plain": [
       "<Figure size 720x288 with 2 Axes>"
      ]
     },
     "metadata": {
      "needs_background": "light"
     },
     "output_type": "display_data"
    },
    {
     "data": {
      "image/png": "[encoded data removed]",
      "text/plain": [
       "<Figure size 720x288 with 2 Axes>"
      ]
     },
     "metadata": {
      "needs_background": "light"
     },
     "output_type": "display_data"
    }
   ],
   "source": [
    "from scipy import stats\n",
    "from scipy.stats import norm\n",
    "\n",
    "def QQplot(df,variable):\n",
    "    plt.figure(figsize=(10,4))\n",
    "    plt.subplot(1,2,1)\n",
    "    sns.histplot(df[variable],kde=True)\n",
    "    plt.xlabel(variable)\n",
    "    plt.subplot(1,2,2)\n",
    "   \n",
    "\n",
    "\n",
    "\n",
    "\n",
    "    stats.probplot(df[variable],dist=\"norm\",plot=plt,rvalue=True)\n",
    "    plt.xlabel(variable)\n",
    "   \n",
    "a=[\"lead_time\",\"adr\",\"arrival_date_week_number\",\"stays_in_weekend_nights\",\"stays_in_week_nights\",\"days_in_waiting_list\"]\n",
    "for i in a:\n",
    "    QQplot(df,i)"
   ]
  },
  {
   "cell_type": "code",
   "execution_count": 186,
   "id": "2ad344cc",
   "metadata": {},
   "outputs": [
    {
     "data": {
      "text/plain": [
       "0    111974\n",
       "1      7383\n",
       "2        28\n",
       "3         3\n",
       "8         2\n",
       "Name: required_car_parking_spaces, dtype: int64"
      ]
     },
     "execution_count": 186,
     "metadata": {},
     "output_type": "execute_result"
    }
   ],
   "source": [
    "df.required_car_parking_spaces.value_counts()"
   ]
  },
  {
   "cell_type": "code",
   "execution_count": 187,
   "id": "2d625b05",
   "metadata": {},
   "outputs": [],
   "source": [
    "x=df.drop(\"is_canceled\",axis=1)\n",
    "y=df.loc[:,\"is_canceled\"]"
   ]
  },
  {
   "cell_type": "code",
   "execution_count": 188,
   "id": "805aab67",
   "metadata": {},
   "outputs": [],
   "source": [
    "from sklearn.model_selection import train_test_split\n",
    "X_train,X_test,Y_train,Y_test=train_test_split(x,y,test_size=.30)"
   ]
  },
  {
   "cell_type": "markdown",
   "id": "8cfbad71",
   "metadata": {},
   "source": [
    "###                                                                Working on training Data"
   ]
  },
  {
   "cell_type": "markdown",
   "id": "96da2261",
   "metadata": {},
   "source": [
    "##### >>Handing columns which have missing values"
   ]
  },
  {
   "cell_type": "raw",
   "id": "fa54899f",
   "metadata": {},
   "source": [
    "1)Firstly i am deleting the columns company and agent bcz they have very large missing values and also my output featue is not depend on these features.\n",
    "2)And filling country columns null value with 0, here 0 can be considered as new category."
   ]
  },
  {
   "cell_type": "code",
   "execution_count": 208,
   "id": "661295be",
   "metadata": {},
   "outputs": [
    {
     "ename": "KeyError",
     "evalue": "\"['company' 'agent'] not found in axis\"",
     "output_type": "error",
     "traceback": [
      "\u001b[1;31m---------------------------------------------------------------------------\u001b[0m",
      "\u001b[1;31mKeyError\u001b[0m                                  Traceback (most recent call last)",
      "\u001b[1;32m<ipython-input-208-da5ce5b9fffd>\u001b[0m in \u001b[0;36m<module>\u001b[1;34m\u001b[0m\n\u001b[0;32m      3\u001b[0m     \u001b[0mX_train\u001b[0m\u001b[1;33m.\u001b[0m\u001b[0mcountry\u001b[0m\u001b[1;33m.\u001b[0m\u001b[0mfillna\u001b[0m\u001b[1;33m(\u001b[0m\u001b[1;34m\"0\"\u001b[0m\u001b[1;33m,\u001b[0m\u001b[0minplace\u001b[0m\u001b[1;33m=\u001b[0m\u001b[1;32mTrue\u001b[0m\u001b[1;33m)\u001b[0m\u001b[1;33m\u001b[0m\u001b[1;33m\u001b[0m\u001b[0m\n\u001b[0;32m      4\u001b[0m     \u001b[0mX_train\u001b[0m\u001b[1;33m.\u001b[0m\u001b[0mchildren\u001b[0m\u001b[1;33m.\u001b[0m\u001b[0mfillna\u001b[0m\u001b[1;33m(\u001b[0m\u001b[1;36m0\u001b[0m\u001b[1;33m,\u001b[0m\u001b[0minplace\u001b[0m\u001b[1;33m=\u001b[0m\u001b[1;32mTrue\u001b[0m\u001b[1;33m)\u001b[0m\u001b[1;33m\u001b[0m\u001b[1;33m\u001b[0m\u001b[0m\n\u001b[1;32m----> 5\u001b[1;33m \u001b[0mmissing\u001b[0m\u001b[1;33m(\u001b[0m\u001b[0mX_train\u001b[0m\u001b[1;33m)\u001b[0m\u001b[1;33m\u001b[0m\u001b[1;33m\u001b[0m\u001b[0m\n\u001b[0m",
      "\u001b[1;32m<ipython-input-208-da5ce5b9fffd>\u001b[0m in \u001b[0;36mmissing\u001b[1;34m(X_train)\u001b[0m\n\u001b[0;32m      1\u001b[0m \u001b[1;32mdef\u001b[0m \u001b[0mmissing\u001b[0m\u001b[1;33m(\u001b[0m\u001b[0mX_train\u001b[0m\u001b[1;33m)\u001b[0m\u001b[1;33m:\u001b[0m\u001b[1;33m\u001b[0m\u001b[1;33m\u001b[0m\u001b[0m\n\u001b[1;32m----> 2\u001b[1;33m     \u001b[0mX_train\u001b[0m\u001b[1;33m.\u001b[0m\u001b[0mdrop\u001b[0m\u001b[1;33m(\u001b[0m\u001b[1;33m[\u001b[0m\u001b[1;34m\"company\"\u001b[0m\u001b[1;33m,\u001b[0m\u001b[1;34m\"agent\"\u001b[0m\u001b[1;33m]\u001b[0m\u001b[1;33m,\u001b[0m\u001b[0maxis\u001b[0m\u001b[1;33m=\u001b[0m\u001b[1;36m1\u001b[0m\u001b[1;33m,\u001b[0m\u001b[0minplace\u001b[0m\u001b[1;33m=\u001b[0m\u001b[1;32mTrue\u001b[0m\u001b[1;33m)\u001b[0m\u001b[1;33m\u001b[0m\u001b[1;33m\u001b[0m\u001b[0m\n\u001b[0m\u001b[0;32m      3\u001b[0m     \u001b[0mX_train\u001b[0m\u001b[1;33m.\u001b[0m\u001b[0mcountry\u001b[0m\u001b[1;33m.\u001b[0m\u001b[0mfillna\u001b[0m\u001b[1;33m(\u001b[0m\u001b[1;34m\"0\"\u001b[0m\u001b[1;33m,\u001b[0m\u001b[0minplace\u001b[0m\u001b[1;33m=\u001b[0m\u001b[1;32mTrue\u001b[0m\u001b[1;33m)\u001b[0m\u001b[1;33m\u001b[0m\u001b[1;33m\u001b[0m\u001b[0m\n\u001b[0;32m      4\u001b[0m     \u001b[0mX_train\u001b[0m\u001b[1;33m.\u001b[0m\u001b[0mchildren\u001b[0m\u001b[1;33m.\u001b[0m\u001b[0mfillna\u001b[0m\u001b[1;33m(\u001b[0m\u001b[1;36m0\u001b[0m\u001b[1;33m,\u001b[0m\u001b[0minplace\u001b[0m\u001b[1;33m=\u001b[0m\u001b[1;32mTrue\u001b[0m\u001b[1;33m)\u001b[0m\u001b[1;33m\u001b[0m\u001b[1;33m\u001b[0m\u001b[0m\n\u001b[0;32m      5\u001b[0m \u001b[0mmissing\u001b[0m\u001b[1;33m(\u001b[0m\u001b[0mX_train\u001b[0m\u001b[1;33m)\u001b[0m\u001b[1;33m\u001b[0m\u001b[1;33m\u001b[0m\u001b[0m\n",
      "\u001b[1;32m~\\anaconda3\\lib\\site-packages\\pandas\\core\\frame.py\u001b[0m in \u001b[0;36mdrop\u001b[1;34m(self, labels, axis, index, columns, level, inplace, errors)\u001b[0m\n\u001b[0;32m   4306\u001b[0m                 \u001b[0mweight\u001b[0m  \u001b[1;36m1.0\u001b[0m     \u001b[1;36m0.8\u001b[0m\u001b[1;33m\u001b[0m\u001b[1;33m\u001b[0m\u001b[0m\n\u001b[0;32m   4307\u001b[0m         \"\"\"\n\u001b[1;32m-> 4308\u001b[1;33m         return super().drop(\n\u001b[0m\u001b[0;32m   4309\u001b[0m             \u001b[0mlabels\u001b[0m\u001b[1;33m=\u001b[0m\u001b[0mlabels\u001b[0m\u001b[1;33m,\u001b[0m\u001b[1;33m\u001b[0m\u001b[1;33m\u001b[0m\u001b[0m\n\u001b[0;32m   4310\u001b[0m             \u001b[0maxis\u001b[0m\u001b[1;33m=\u001b[0m\u001b[0maxis\u001b[0m\u001b[1;33m,\u001b[0m\u001b[1;33m\u001b[0m\u001b[1;33m\u001b[0m\u001b[0m\n",
      "\u001b[1;32m~\\anaconda3\\lib\\site-packages\\pandas\\core\\generic.py\u001b[0m in \u001b[0;36mdrop\u001b[1;34m(self, labels, axis, index, columns, level, inplace, errors)\u001b[0m\n\u001b[0;32m   4151\u001b[0m         \u001b[1;32mfor\u001b[0m \u001b[0maxis\u001b[0m\u001b[1;33m,\u001b[0m \u001b[0mlabels\u001b[0m \u001b[1;32min\u001b[0m \u001b[0maxes\u001b[0m\u001b[1;33m.\u001b[0m\u001b[0mitems\u001b[0m\u001b[1;33m(\u001b[0m\u001b[1;33m)\u001b[0m\u001b[1;33m:\u001b[0m\u001b[1;33m\u001b[0m\u001b[1;33m\u001b[0m\u001b[0m\n\u001b[0;32m   4152\u001b[0m             \u001b[1;32mif\u001b[0m \u001b[0mlabels\u001b[0m \u001b[1;32mis\u001b[0m \u001b[1;32mnot\u001b[0m \u001b[1;32mNone\u001b[0m\u001b[1;33m:\u001b[0m\u001b[1;33m\u001b[0m\u001b[1;33m\u001b[0m\u001b[0m\n\u001b[1;32m-> 4153\u001b[1;33m                 \u001b[0mobj\u001b[0m \u001b[1;33m=\u001b[0m \u001b[0mobj\u001b[0m\u001b[1;33m.\u001b[0m\u001b[0m_drop_axis\u001b[0m\u001b[1;33m(\u001b[0m\u001b[0mlabels\u001b[0m\u001b[1;33m,\u001b[0m \u001b[0maxis\u001b[0m\u001b[1;33m,\u001b[0m \u001b[0mlevel\u001b[0m\u001b[1;33m=\u001b[0m\u001b[0mlevel\u001b[0m\u001b[1;33m,\u001b[0m \u001b[0merrors\u001b[0m\u001b[1;33m=\u001b[0m\u001b[0merrors\u001b[0m\u001b[1;33m)\u001b[0m\u001b[1;33m\u001b[0m\u001b[1;33m\u001b[0m\u001b[0m\n\u001b[0m\u001b[0;32m   4154\u001b[0m \u001b[1;33m\u001b[0m\u001b[0m\n\u001b[0;32m   4155\u001b[0m         \u001b[1;32mif\u001b[0m \u001b[0minplace\u001b[0m\u001b[1;33m:\u001b[0m\u001b[1;33m\u001b[0m\u001b[1;33m\u001b[0m\u001b[0m\n",
      "\u001b[1;32m~\\anaconda3\\lib\\site-packages\\pandas\\core\\generic.py\u001b[0m in \u001b[0;36m_drop_axis\u001b[1;34m(self, labels, axis, level, errors)\u001b[0m\n\u001b[0;32m   4186\u001b[0m                 \u001b[0mnew_axis\u001b[0m \u001b[1;33m=\u001b[0m \u001b[0maxis\u001b[0m\u001b[1;33m.\u001b[0m\u001b[0mdrop\u001b[0m\u001b[1;33m(\u001b[0m\u001b[0mlabels\u001b[0m\u001b[1;33m,\u001b[0m \u001b[0mlevel\u001b[0m\u001b[1;33m=\u001b[0m\u001b[0mlevel\u001b[0m\u001b[1;33m,\u001b[0m \u001b[0merrors\u001b[0m\u001b[1;33m=\u001b[0m\u001b[0merrors\u001b[0m\u001b[1;33m)\u001b[0m\u001b[1;33m\u001b[0m\u001b[1;33m\u001b[0m\u001b[0m\n\u001b[0;32m   4187\u001b[0m             \u001b[1;32melse\u001b[0m\u001b[1;33m:\u001b[0m\u001b[1;33m\u001b[0m\u001b[1;33m\u001b[0m\u001b[0m\n\u001b[1;32m-> 4188\u001b[1;33m                 \u001b[0mnew_axis\u001b[0m \u001b[1;33m=\u001b[0m \u001b[0maxis\u001b[0m\u001b[1;33m.\u001b[0m\u001b[0mdrop\u001b[0m\u001b[1;33m(\u001b[0m\u001b[0mlabels\u001b[0m\u001b[1;33m,\u001b[0m \u001b[0merrors\u001b[0m\u001b[1;33m=\u001b[0m\u001b[0merrors\u001b[0m\u001b[1;33m)\u001b[0m\u001b[1;33m\u001b[0m\u001b[1;33m\u001b[0m\u001b[0m\n\u001b[0m\u001b[0;32m   4189\u001b[0m             \u001b[0mresult\u001b[0m \u001b[1;33m=\u001b[0m \u001b[0mself\u001b[0m\u001b[1;33m.\u001b[0m\u001b[0mreindex\u001b[0m\u001b[1;33m(\u001b[0m\u001b[1;33m**\u001b[0m\u001b[1;33m{\u001b[0m\u001b[0maxis_name\u001b[0m\u001b[1;33m:\u001b[0m \u001b[0mnew_axis\u001b[0m\u001b[1;33m}\u001b[0m\u001b[1;33m)\u001b[0m\u001b[1;33m\u001b[0m\u001b[1;33m\u001b[0m\u001b[0m\n\u001b[0;32m   4190\u001b[0m \u001b[1;33m\u001b[0m\u001b[0m\n",
      "\u001b[1;32m~\\anaconda3\\lib\\site-packages\\pandas\\core\\indexes\\base.py\u001b[0m in \u001b[0;36mdrop\u001b[1;34m(self, labels, errors)\u001b[0m\n\u001b[0;32m   5589\u001b[0m         \u001b[1;32mif\u001b[0m \u001b[0mmask\u001b[0m\u001b[1;33m.\u001b[0m\u001b[0many\u001b[0m\u001b[1;33m(\u001b[0m\u001b[1;33m)\u001b[0m\u001b[1;33m:\u001b[0m\u001b[1;33m\u001b[0m\u001b[1;33m\u001b[0m\u001b[0m\n\u001b[0;32m   5590\u001b[0m             \u001b[1;32mif\u001b[0m \u001b[0merrors\u001b[0m \u001b[1;33m!=\u001b[0m \u001b[1;34m\"ignore\"\u001b[0m\u001b[1;33m:\u001b[0m\u001b[1;33m\u001b[0m\u001b[1;33m\u001b[0m\u001b[0m\n\u001b[1;32m-> 5591\u001b[1;33m                 \u001b[1;32mraise\u001b[0m \u001b[0mKeyError\u001b[0m\u001b[1;33m(\u001b[0m\u001b[1;34mf\"{labels[mask]} not found in axis\"\u001b[0m\u001b[1;33m)\u001b[0m\u001b[1;33m\u001b[0m\u001b[1;33m\u001b[0m\u001b[0m\n\u001b[0m\u001b[0;32m   5592\u001b[0m             \u001b[0mindexer\u001b[0m \u001b[1;33m=\u001b[0m \u001b[0mindexer\u001b[0m\u001b[1;33m[\u001b[0m\u001b[1;33m~\u001b[0m\u001b[0mmask\u001b[0m\u001b[1;33m]\u001b[0m\u001b[1;33m\u001b[0m\u001b[1;33m\u001b[0m\u001b[0m\n\u001b[0;32m   5593\u001b[0m         \u001b[1;32mreturn\u001b[0m \u001b[0mself\u001b[0m\u001b[1;33m.\u001b[0m\u001b[0mdelete\u001b[0m\u001b[1;33m(\u001b[0m\u001b[0mindexer\u001b[0m\u001b[1;33m)\u001b[0m\u001b[1;33m\u001b[0m\u001b[1;33m\u001b[0m\u001b[0m\n",
      "\u001b[1;31mKeyError\u001b[0m: \"['company' 'agent'] not found in axis\""
     ]
    }
   ],
   "source": [
    "def missing(X_train):\n",
    "    X_train.drop([\"company\",\"agent\"],axis=1,inplace=True)\n",
    "    X_train.country.fillna(\"0\",inplace=True)\n",
    "    X_train.children.fillna(0,inplace=True)\n",
    "missing(X_train)"
   ]
  },
  {
   "cell_type": "markdown",
   "id": "a02bf007",
   "metadata": {},
   "source": [
    "#### >> Handling categorical features"
   ]
  },
  {
   "cell_type": "code",
   "execution_count": 190,
   "id": "344cf93c",
   "metadata": {},
   "outputs": [],
   "source": [
    "def encoding(X_train,a):\n",
    "    from sklearn.preprocessing import OrdinalEncoder\n",
    "    Ordinal=OrdinalEncoder()\n",
    "    X_train[a]=Ordinal.fit_transform(X_train[a])\n",
    "a=[X_train.columns[i] for i in range( len(X_train.columns)) if X_train[X_train.columns[i]].dtype==\"O\"]\n",
    "\n",
    "encoding(X_train,a)"
   ]
  },
  {
   "cell_type": "markdown",
   "id": "91106b79",
   "metadata": {},
   "source": [
    "#### << Continious Features Transformation(Normal Distribution) and scaling\n"
   ]
  },
  {
   "cell_type": "code",
   "execution_count": 191,
   "id": "3e4282cc",
   "metadata": {},
   "outputs": [
    {
     "data": {
      "text/plain": [
       "Index(['hotel', 'lead_time', 'arrival_date_year', 'arrival_date_month',\n",
       "       'arrival_date_week_number', 'arrival_date_day_of_month',\n",
       "       'stays_in_weekend_nights', 'stays_in_week_nights', 'adults', 'children',\n",
       "       'babies', 'meal', 'country', 'market_segment', 'distribution_channel',\n",
       "       'is_repeated_guest', 'previous_cancellations',\n",
       "       'previous_bookings_not_canceled', 'reserved_room_type',\n",
       "       'assigned_room_type', 'booking_changes', 'deposit_type',\n",
       "       'days_in_waiting_list', 'customer_type', 'adr',\n",
       "       'required_car_parking_spaces', 'total_of_special_requests',\n",
       "       'reservation_status', 'reservation_status_date'],\n",
       "      dtype='object')"
      ]
     },
     "execution_count": 191,
     "metadata": {},
     "output_type": "execute_result"
    }
   ],
   "source": [
    "X_train.columns"
   ]
  },
  {
   "cell_type": "code",
   "execution_count": 192,
   "id": "acd99ec3",
   "metadata": {},
   "outputs": [],
   "source": [
    "#There are two continuious features in this dataset in which feature adr is normally distributed so lead_time will require\n",
    "#transformation\n",
    "def sqrt_transform(X_train):\n",
    "    X_train.lead_time=np.sqrt(X_train.lead_time)\n",
    "sqrt_transform(X_train)\n"
   ]
  },
  {
   "cell_type": "code",
   "execution_count": 193,
   "id": "c6f125de",
   "metadata": {},
   "outputs": [
    {
     "data": {
      "text/html": [
       "<div>\n",
       "<style scoped>\n",
       "    .dataframe tbody tr th:only-of-type {\n",
       "        vertical-align: middle;\n",
       "    }\n",
       "\n",
       "    .dataframe tbody tr th {\n",
       "        vertical-align: top;\n",
       "    }\n",
       "\n",
       "    .dataframe thead th {\n",
       "        text-align: right;\n",
       "    }\n",
       "</style>\n",
       "<table border=\"1\" class=\"dataframe\">\n",
       "  <thead>\n",
       "    <tr style=\"text-align: right;\">\n",
       "      <th></th>\n",
       "      <th>lead_time</th>\n",
       "      <th>adr</th>\n",
       "    </tr>\n",
       "  </thead>\n",
       "  <tbody>\n",
       "    <tr>\n",
       "      <th>8270</th>\n",
       "      <td>18.520259</td>\n",
       "      <td>94.00</td>\n",
       "    </tr>\n",
       "    <tr>\n",
       "      <th>93045</th>\n",
       "      <td>9.591663</td>\n",
       "      <td>89.85</td>\n",
       "    </tr>\n",
       "    <tr>\n",
       "      <th>96404</th>\n",
       "      <td>2.449490</td>\n",
       "      <td>123.20</td>\n",
       "    </tr>\n",
       "    <tr>\n",
       "      <th>60828</th>\n",
       "      <td>17.549929</td>\n",
       "      <td>78.30</td>\n",
       "    </tr>\n",
       "    <tr>\n",
       "      <th>112232</th>\n",
       "      <td>9.797959</td>\n",
       "      <td>126.00</td>\n",
       "    </tr>\n",
       "    <tr>\n",
       "      <th>...</th>\n",
       "      <td>...</td>\n",
       "      <td>...</td>\n",
       "    </tr>\n",
       "    <tr>\n",
       "      <th>21732</th>\n",
       "      <td>11.224972</td>\n",
       "      <td>62.63</td>\n",
       "    </tr>\n",
       "    <tr>\n",
       "      <th>115056</th>\n",
       "      <td>2.449490</td>\n",
       "      <td>160.00</td>\n",
       "    </tr>\n",
       "    <tr>\n",
       "      <th>26836</th>\n",
       "      <td>2.828427</td>\n",
       "      <td>261.00</td>\n",
       "    </tr>\n",
       "    <tr>\n",
       "      <th>76640</th>\n",
       "      <td>7.000000</td>\n",
       "      <td>0.00</td>\n",
       "    </tr>\n",
       "    <tr>\n",
       "      <th>53370</th>\n",
       "      <td>6.164414</td>\n",
       "      <td>81.00</td>\n",
       "    </tr>\n",
       "  </tbody>\n",
       "</table>\n",
       "<p>83573 rows × 2 columns</p>\n",
       "</div>"
      ],
      "text/plain": [
       "        lead_time     adr\n",
       "8270    18.520259   94.00\n",
       "93045    9.591663   89.85\n",
       "96404    2.449490  123.20\n",
       "60828   17.549929   78.30\n",
       "112232   9.797959  126.00\n",
       "...           ...     ...\n",
       "21732   11.224972   62.63\n",
       "115056   2.449490  160.00\n",
       "26836    2.828427  261.00\n",
       "76640    7.000000    0.00\n",
       "53370    6.164414   81.00\n",
       "\n",
       "[83573 rows x 2 columns]"
      ]
     },
     "execution_count": 193,
     "metadata": {},
     "output_type": "execute_result"
    }
   ],
   "source": [
    "X_train[[\"lead_time\",\"adr\"]]"
   ]
  },
  {
   "cell_type": "code",
   "execution_count": 194,
   "id": "aacd9d9c",
   "metadata": {},
   "outputs": [
    {
     "data": {
      "text/plain": [
       "Text(0.5, 0, 'lead_time')"
      ]
     },
     "execution_count": 194,
     "metadata": {},
     "output_type": "execute_result"
    },
    {
     "data": {
      "image/png": "[encoded data removed]",
      "text/plain": [
       "<Figure size 720x288 with 2 Axes>"
      ]
     },
     "metadata": {
      "needs_background": "light"
     },
     "output_type": "display_data"
    }
   ],
   "source": [
    "from scipy import stats\n",
    "from scipy.stats import norm\n",
    "plt.figure(figsize=(10,4))#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\n",
    "plt.subplot(1,2,1)\n",
    "sns.histplot(X_train[\"lead_time\"],kde=True)\n",
    "plt.xlabel(\"lead_time\")\n",
    "plt.subplot(1,2,2)\n",
    "stats.probplot(X_train[\"lead_time\"],dist=\"norm\",plot=plt,rvalue=True)\n",
    "plt.xlabel(\"lead_time\")\n",
    "   "
   ]
  },
  {
   "cell_type": "markdown",
   "id": "19ba064b",
   "metadata": {},
   "source": []
  },
  {
   "cell_type": "markdown",
   "id": "6557e282",
   "metadata": {},
   "source": [
    "### Working on testing data"
   ]
  },
  {
   "cell_type": "code",
   "execution_count": 209,
   "id": "be4cd2cd",
   "metadata": {},
   "outputs": [
    {
     "ename": "KeyError",
     "evalue": "\"['company' 'agent'] not found in axis\"",
     "output_type": "error",
     "traceback": [
      "\u001b[1;31m---------------------------------------------------------------------------\u001b[0m",
      "\u001b[1;31mKeyError\u001b[0m                                  Traceback (most recent call last)",
      "\u001b[1;32m<ipython-input-209-ce4fc3bb39bc>\u001b[0m in \u001b[0;36m<module>\u001b[1;34m\u001b[0m\n\u001b[0;32m      1\u001b[0m \u001b[0msqrt_transform\u001b[0m\u001b[1;33m(\u001b[0m\u001b[0mX_test\u001b[0m\u001b[1;33m)\u001b[0m\u001b[1;33m\u001b[0m\u001b[1;33m\u001b[0m\u001b[0m\n\u001b[0;32m      2\u001b[0m \u001b[1;31m#scaler(X_test)\u001b[0m\u001b[1;33m\u001b[0m\u001b[1;33m\u001b[0m\u001b[1;33m\u001b[0m\u001b[0m\n\u001b[1;32m----> 3\u001b[1;33m \u001b[0mmissing\u001b[0m\u001b[1;33m(\u001b[0m\u001b[0mX_test\u001b[0m\u001b[1;33m)\u001b[0m\u001b[1;33m\u001b[0m\u001b[1;33m\u001b[0m\u001b[0m\n\u001b[0m\u001b[0;32m      4\u001b[0m \u001b[0mencoding\u001b[0m\u001b[1;33m(\u001b[0m\u001b[0mX_test\u001b[0m\u001b[1;33m,\u001b[0m\u001b[0ma\u001b[0m\u001b[1;33m)\u001b[0m\u001b[1;33m\u001b[0m\u001b[1;33m\u001b[0m\u001b[0m\n",
      "\u001b[1;32m<ipython-input-208-da5ce5b9fffd>\u001b[0m in \u001b[0;36mmissing\u001b[1;34m(X_train)\u001b[0m\n\u001b[0;32m      1\u001b[0m \u001b[1;32mdef\u001b[0m \u001b[0mmissing\u001b[0m\u001b[1;33m(\u001b[0m\u001b[0mX_train\u001b[0m\u001b[1;33m)\u001b[0m\u001b[1;33m:\u001b[0m\u001b[1;33m\u001b[0m\u001b[1;33m\u001b[0m\u001b[0m\n\u001b[1;32m----> 2\u001b[1;33m     \u001b[0mX_train\u001b[0m\u001b[1;33m.\u001b[0m\u001b[0mdrop\u001b[0m\u001b[1;33m(\u001b[0m\u001b[1;33m[\u001b[0m\u001b[1;34m\"company\"\u001b[0m\u001b[1;33m,\u001b[0m\u001b[1;34m\"agent\"\u001b[0m\u001b[1;33m]\u001b[0m\u001b[1;33m,\u001b[0m\u001b[0maxis\u001b[0m\u001b[1;33m=\u001b[0m\u001b[1;36m1\u001b[0m\u001b[1;33m,\u001b[0m\u001b[0minplace\u001b[0m\u001b[1;33m=\u001b[0m\u001b[1;32mTrue\u001b[0m\u001b[1;33m)\u001b[0m\u001b[1;33m\u001b[0m\u001b[1;33m\u001b[0m\u001b[0m\n\u001b[0m\u001b[0;32m      3\u001b[0m     \u001b[0mX_train\u001b[0m\u001b[1;33m.\u001b[0m\u001b[0mcountry\u001b[0m\u001b[1;33m.\u001b[0m\u001b[0mfillna\u001b[0m\u001b[1;33m(\u001b[0m\u001b[1;34m\"0\"\u001b[0m\u001b[1;33m,\u001b[0m\u001b[0minplace\u001b[0m\u001b[1;33m=\u001b[0m\u001b[1;32mTrue\u001b[0m\u001b[1;33m)\u001b[0m\u001b[1;33m\u001b[0m\u001b[1;33m\u001b[0m\u001b[0m\n\u001b[0;32m      4\u001b[0m     \u001b[0mX_train\u001b[0m\u001b[1;33m.\u001b[0m\u001b[0mchildren\u001b[0m\u001b[1;33m.\u001b[0m\u001b[0mfillna\u001b[0m\u001b[1;33m(\u001b[0m\u001b[1;36m0\u001b[0m\u001b[1;33m,\u001b[0m\u001b[0minplace\u001b[0m\u001b[1;33m=\u001b[0m\u001b[1;32mTrue\u001b[0m\u001b[1;33m)\u001b[0m\u001b[1;33m\u001b[0m\u001b[1;33m\u001b[0m\u001b[0m\n\u001b[0;32m      5\u001b[0m \u001b[0mmissing\u001b[0m\u001b[1;33m(\u001b[0m\u001b[0mX_train\u001b[0m\u001b[1;33m)\u001b[0m\u001b[1;33m\u001b[0m\u001b[1;33m\u001b[0m\u001b[0m\n",
      "\u001b[1;32m~\\anaconda3\\lib\\site-packages\\pandas\\core\\frame.py\u001b[0m in \u001b[0;36mdrop\u001b[1;34m(self, labels, axis, index, columns, level, inplace, errors)\u001b[0m\n\u001b[0;32m   4306\u001b[0m                 \u001b[0mweight\u001b[0m  \u001b[1;36m1.0\u001b[0m     \u001b[1;36m0.8\u001b[0m\u001b[1;33m\u001b[0m\u001b[1;33m\u001b[0m\u001b[0m\n\u001b[0;32m   4307\u001b[0m         \"\"\"\n\u001b[1;32m-> 4308\u001b[1;33m         return super().drop(\n\u001b[0m\u001b[0;32m   4309\u001b[0m             \u001b[0mlabels\u001b[0m\u001b[1;33m=\u001b[0m\u001b[0mlabels\u001b[0m\u001b[1;33m,\u001b[0m\u001b[1;33m\u001b[0m\u001b[1;33m\u001b[0m\u001b[0m\n\u001b[0;32m   4310\u001b[0m             \u001b[0maxis\u001b[0m\u001b[1;33m=\u001b[0m\u001b[0maxis\u001b[0m\u001b[1;33m,\u001b[0m\u001b[1;33m\u001b[0m\u001b[1;33m\u001b[0m\u001b[0m\n",
      "\u001b[1;32m~\\anaconda3\\lib\\site-packages\\pandas\\core\\generic.py\u001b[0m in \u001b[0;36mdrop\u001b[1;34m(self, labels, axis, index, columns, level, inplace, errors)\u001b[0m\n\u001b[0;32m   4151\u001b[0m         \u001b[1;32mfor\u001b[0m \u001b[0maxis\u001b[0m\u001b[1;33m,\u001b[0m \u001b[0mlabels\u001b[0m \u001b[1;32min\u001b[0m \u001b[0maxes\u001b[0m\u001b[1;33m.\u001b[0m\u001b[0mitems\u001b[0m\u001b[1;33m(\u001b[0m\u001b[1;33m)\u001b[0m\u001b[1;33m:\u001b[0m\u001b[1;33m\u001b[0m\u001b[1;33m\u001b[0m\u001b[0m\n\u001b[0;32m   4152\u001b[0m             \u001b[1;32mif\u001b[0m \u001b[0mlabels\u001b[0m \u001b[1;32mis\u001b[0m \u001b[1;32mnot\u001b[0m \u001b[1;32mNone\u001b[0m\u001b[1;33m:\u001b[0m\u001b[1;33m\u001b[0m\u001b[1;33m\u001b[0m\u001b[0m\n\u001b[1;32m-> 4153\u001b[1;33m                 \u001b[0mobj\u001b[0m \u001b[1;33m=\u001b[0m \u001b[0mobj\u001b[0m\u001b[1;33m.\u001b[0m\u001b[0m_drop_axis\u001b[0m\u001b[1;33m(\u001b[0m\u001b[0mlabels\u001b[0m\u001b[1;33m,\u001b[0m \u001b[0maxis\u001b[0m\u001b[1;33m,\u001b[0m \u001b[0mlevel\u001b[0m\u001b[1;33m=\u001b[0m\u001b[0mlevel\u001b[0m\u001b[1;33m,\u001b[0m \u001b[0merrors\u001b[0m\u001b[1;33m=\u001b[0m\u001b[0merrors\u001b[0m\u001b[1;33m)\u001b[0m\u001b[1;33m\u001b[0m\u001b[1;33m\u001b[0m\u001b[0m\n\u001b[0m\u001b[0;32m   4154\u001b[0m \u001b[1;33m\u001b[0m\u001b[0m\n\u001b[0;32m   4155\u001b[0m         \u001b[1;32mif\u001b[0m \u001b[0minplace\u001b[0m\u001b[1;33m:\u001b[0m\u001b[1;33m\u001b[0m\u001b[1;33m\u001b[0m\u001b[0m\n",
      "\u001b[1;32m~\\anaconda3\\lib\\site-packages\\pandas\\core\\generic.py\u001b[0m in \u001b[0;36m_drop_axis\u001b[1;34m(self, labels, axis, level, errors)\u001b[0m\n\u001b[0;32m   4186\u001b[0m                 \u001b[0mnew_axis\u001b[0m \u001b[1;33m=\u001b[0m \u001b[0maxis\u001b[0m\u001b[1;33m.\u001b[0m\u001b[0mdrop\u001b[0m\u001b[1;33m(\u001b[0m\u001b[0mlabels\u001b[0m\u001b[1;33m,\u001b[0m \u001b[0mlevel\u001b[0m\u001b[1;33m=\u001b[0m\u001b[0mlevel\u001b[0m\u001b[1;33m,\u001b[0m \u001b[0merrors\u001b[0m\u001b[1;33m=\u001b[0m\u001b[0merrors\u001b[0m\u001b[1;33m)\u001b[0m\u001b[1;33m\u001b[0m\u001b[1;33m\u001b[0m\u001b[0m\n\u001b[0;32m   4187\u001b[0m             \u001b[1;32melse\u001b[0m\u001b[1;33m:\u001b[0m\u001b[1;33m\u001b[0m\u001b[1;33m\u001b[0m\u001b[0m\n\u001b[1;32m-> 4188\u001b[1;33m                 \u001b[0mnew_axis\u001b[0m \u001b[1;33m=\u001b[0m \u001b[0maxis\u001b[0m\u001b[1;33m.\u001b[0m\u001b[0mdrop\u001b[0m\u001b[1;33m(\u001b[0m\u001b[0mlabels\u001b[0m\u001b[1;33m,\u001b[0m \u001b[0merrors\u001b[0m\u001b[1;33m=\u001b[0m\u001b[0merrors\u001b[0m\u001b[1;33m)\u001b[0m\u001b[1;33m\u001b[0m\u001b[1;33m\u001b[0m\u001b[0m\n\u001b[0m\u001b[0;32m   4189\u001b[0m             \u001b[0mresult\u001b[0m \u001b[1;33m=\u001b[0m \u001b[0mself\u001b[0m\u001b[1;33m.\u001b[0m\u001b[0mreindex\u001b[0m\u001b[1;33m(\u001b[0m\u001b[1;33m**\u001b[0m\u001b[1;33m{\u001b[0m\u001b[0maxis_name\u001b[0m\u001b[1;33m:\u001b[0m \u001b[0mnew_axis\u001b[0m\u001b[1;33m}\u001b[0m\u001b[1;33m)\u001b[0m\u001b[1;33m\u001b[0m\u001b[1;33m\u001b[0m\u001b[0m\n\u001b[0;32m   4190\u001b[0m \u001b[1;33m\u001b[0m\u001b[0m\n",
      "\u001b[1;32m~\\anaconda3\\lib\\site-packages\\pandas\\core\\indexes\\base.py\u001b[0m in \u001b[0;36mdrop\u001b[1;34m(self, labels, errors)\u001b[0m\n\u001b[0;32m   5589\u001b[0m         \u001b[1;32mif\u001b[0m \u001b[0mmask\u001b[0m\u001b[1;33m.\u001b[0m\u001b[0many\u001b[0m\u001b[1;33m(\u001b[0m\u001b[1;33m)\u001b[0m\u001b[1;33m:\u001b[0m\u001b[1;33m\u001b[0m\u001b[1;33m\u001b[0m\u001b[0m\n\u001b[0;32m   5590\u001b[0m             \u001b[1;32mif\u001b[0m \u001b[0merrors\u001b[0m \u001b[1;33m!=\u001b[0m \u001b[1;34m\"ignore\"\u001b[0m\u001b[1;33m:\u001b[0m\u001b[1;33m\u001b[0m\u001b[1;33m\u001b[0m\u001b[0m\n\u001b[1;32m-> 5591\u001b[1;33m                 \u001b[1;32mraise\u001b[0m \u001b[0mKeyError\u001b[0m\u001b[1;33m(\u001b[0m\u001b[1;34mf\"{labels[mask]} not found in axis\"\u001b[0m\u001b[1;33m)\u001b[0m\u001b[1;33m\u001b[0m\u001b[1;33m\u001b[0m\u001b[0m\n\u001b[0m\u001b[0;32m   5592\u001b[0m             \u001b[0mindexer\u001b[0m \u001b[1;33m=\u001b[0m \u001b[0mindexer\u001b[0m\u001b[1;33m[\u001b[0m\u001b[1;33m~\u001b[0m\u001b[0mmask\u001b[0m\u001b[1;33m]\u001b[0m\u001b[1;33m\u001b[0m\u001b[1;33m\u001b[0m\u001b[0m\n\u001b[0;32m   5593\u001b[0m         \u001b[1;32mreturn\u001b[0m \u001b[0mself\u001b[0m\u001b[1;33m.\u001b[0m\u001b[0mdelete\u001b[0m\u001b[1;33m(\u001b[0m\u001b[0mindexer\u001b[0m\u001b[1;33m)\u001b[0m\u001b[1;33m\u001b[0m\u001b[1;33m\u001b[0m\u001b[0m\n",
      "\u001b[1;31mKeyError\u001b[0m: \"['company' 'agent'] not found in axis\""
     ]
    }
   ],
   "source": [
    "sqrt_transform(X_test)\n",
    "#scaler(X_test)\n",
    "missing(X_test)\n",
    "encoding(X_test,a)\n"
   ]
  },
  {
   "cell_type": "markdown",
   "id": "c5342444",
   "metadata": {},
   "source": [
    "## Feature Selection\n",
    "\n"
   ]
  },
  {
   "cell_type": "code",
   "execution_count": 196,
   "id": "f09c63a3",
   "metadata": {},
   "outputs": [
    {
     "data": {
      "text/plain": [
       "hotel                             0\n",
       "lead_time                         0\n",
       "arrival_date_year                 0\n",
       "arrival_date_month                0\n",
       "arrival_date_week_number          0\n",
       "arrival_date_day_of_month         0\n",
       "stays_in_weekend_nights           0\n",
       "stays_in_week_nights              0\n",
       "adults                            0\n",
       "children                          0\n",
       "babies                            0\n",
       "meal                              0\n",
       "country                           0\n",
       "market_segment                    0\n",
       "distribution_channel              0\n",
       "is_repeated_guest                 0\n",
       "previous_cancellations            0\n",
       "previous_bookings_not_canceled    0\n",
       "reserved_room_type                0\n",
       "assigned_room_type                0\n",
       "booking_changes                   0\n",
       "deposit_type                      0\n",
       "days_in_waiting_list              0\n",
       "customer_type                     0\n",
       "adr                               0\n",
       "required_car_parking_spaces       0\n",
       "total_of_special_requests         0\n",
       "reservation_status                0\n",
       "reservation_status_date           0\n",
       "dtype: int64"
      ]
     },
     "execution_count": 196,
     "metadata": {},
     "output_type": "execute_result"
    }
   ],
   "source": [
    "X_train.isnull().sum()"
   ]
  },
  {
   "cell_type": "markdown",
   "id": "cfdb934e",
   "metadata": {},
   "source": [
    "#### Firstly checking vif score for  continuious features"
   ]
  },
  {
   "cell_type": "code",
   "execution_count": 197,
   "id": "e5a715d3",
   "metadata": {},
   "outputs": [],
   "source": [
    "from statsmodels.stats.outliers_influence import variance_inflation_factor\n",
    "variables =X_train[[\"adr\",\"lead_time\",\"arrival_date_week_number\",\"stays_in_weekend_nights\",\"stays_in_week_nights\",\"days_in_waiting_list\"]]\n",
    "\n",
    "# we create a new data frame which will include all the VIFs\n",
    "# note that each variable has its own variance inflation factor as this measure is variable specific (not model specific)\n",
    "# we do not include categorical values for mulitcollinearity as they do not provide much information as numerical ones do\n",
    "vif = pd.DataFrame()\n",
    "\n",
    "\n",
    "# here we make use of the variance_inflation_factor, which will basically output the respective VIFs \n",
    "vif[\"VIF\"] = [variance_inflation_factor(variables.values, i) for i in range(variables.shape[1])]\n",
    "# Finally, I like to include names so it is easier to explore the result\n",
    "vif[\"Features\"] = variables.columns"
   ]
  },
  {
   "cell_type": "code",
   "execution_count": 198,
   "id": "bfcc649d",
   "metadata": {},
   "outputs": [
    {
     "data": {
      "text/html": [
       "<div>\n",
       "<style scoped>\n",
       "    .dataframe tbody tr th:only-of-type {\n",
       "        vertical-align: middle;\n",
       "    }\n",
       "\n",
       "    .dataframe tbody tr th {\n",
       "        vertical-align: top;\n",
       "    }\n",
       "\n",
       "    .dataframe thead th {\n",
       "        text-align: right;\n",
       "    }\n",
       "</style>\n",
       "<table border=\"1\" class=\"dataframe\">\n",
       "  <thead>\n",
       "    <tr style=\"text-align: right;\">\n",
       "      <th></th>\n",
       "      <th>VIF</th>\n",
       "      <th>Features</th>\n",
       "    </tr>\n",
       "  </thead>\n",
       "  <tbody>\n",
       "    <tr>\n",
       "      <th>0</th>\n",
       "      <td>3.543457</td>\n",
       "      <td>adr</td>\n",
       "    </tr>\n",
       "    <tr>\n",
       "      <th>1</th>\n",
       "      <td>3.454697</td>\n",
       "      <td>lead_time</td>\n",
       "    </tr>\n",
       "    <tr>\n",
       "      <th>2</th>\n",
       "      <td>3.786836</td>\n",
       "      <td>arrival_date_week_number</td>\n",
       "    </tr>\n",
       "    <tr>\n",
       "      <th>3</th>\n",
       "      <td>2.475309</td>\n",
       "      <td>stays_in_weekend_nights</td>\n",
       "    </tr>\n",
       "    <tr>\n",
       "      <th>4</th>\n",
       "      <td>3.605073</td>\n",
       "      <td>stays_in_week_nights</td>\n",
       "    </tr>\n",
       "    <tr>\n",
       "      <th>5</th>\n",
       "      <td>1.051138</td>\n",
       "      <td>days_in_waiting_list</td>\n",
       "    </tr>\n",
       "  </tbody>\n",
       "</table>\n",
       "</div>"
      ],
      "text/plain": [
       "        VIF                  Features\n",
       "0  3.543457                       adr\n",
       "1  3.454697                 lead_time\n",
       "2  3.786836  arrival_date_week_number\n",
       "3  2.475309   stays_in_weekend_nights\n",
       "4  3.605073      stays_in_week_nights\n",
       "5  1.051138      days_in_waiting_list"
      ]
     },
     "execution_count": 198,
     "metadata": {},
     "output_type": "execute_result"
    }
   ],
   "source": [
    "vif"
   ]
  },
  {
   "cell_type": "raw",
   "id": "eea8e70a",
   "metadata": {},
   "source": [
    "Vif seams to be good for all numeric  features"
   ]
  },
  {
   "cell_type": "markdown",
   "id": "92594ef8",
   "metadata": {},
   "source": [
    "#### Using Chi2"
   ]
  },
  {
   "cell_type": "code",
   "execution_count": 201,
   "id": "b79c167c",
   "metadata": {},
   "outputs": [
    {
     "ename": "KeyError",
     "evalue": "\"['reservation_status_date'] not found in axis\"",
     "output_type": "error",
     "traceback": [
      "\u001b[1;31m---------------------------------------------------------------------------\u001b[0m",
      "\u001b[1;31mKeyError\u001b[0m                                  Traceback (most recent call last)",
      "\u001b[1;32m<ipython-input-201-f77b73d9aebd>\u001b[0m in \u001b[0;36m<module>\u001b[1;34m\u001b[0m\n\u001b[1;32m----> 1\u001b[1;33m \u001b[0mX_train\u001b[0m\u001b[1;33m.\u001b[0m\u001b[0mdrop\u001b[0m\u001b[1;33m(\u001b[0m\u001b[1;34m\"reservation_status_date\"\u001b[0m\u001b[1;33m,\u001b[0m\u001b[0maxis\u001b[0m\u001b[1;33m=\u001b[0m\u001b[1;36m1\u001b[0m\u001b[1;33m,\u001b[0m\u001b[0minplace\u001b[0m\u001b[1;33m=\u001b[0m\u001b[1;32mTrue\u001b[0m\u001b[1;33m)\u001b[0m\u001b[1;33m\u001b[0m\u001b[1;33m\u001b[0m\u001b[0m\n\u001b[0m\u001b[0;32m      2\u001b[0m \u001b[0mX_test\u001b[0m\u001b[1;33m.\u001b[0m\u001b[0mdrop\u001b[0m\u001b[1;33m(\u001b[0m\u001b[1;34m\"reservation_status_date\"\u001b[0m\u001b[1;33m,\u001b[0m\u001b[0maxis\u001b[0m\u001b[1;33m=\u001b[0m\u001b[1;36m1\u001b[0m\u001b[1;33m,\u001b[0m\u001b[0minplace\u001b[0m\u001b[1;33m=\u001b[0m\u001b[1;32mTrue\u001b[0m\u001b[1;33m)\u001b[0m\u001b[1;33m\u001b[0m\u001b[1;33m\u001b[0m\u001b[0m\n",
      "\u001b[1;32m~\\anaconda3\\lib\\site-packages\\pandas\\core\\frame.py\u001b[0m in \u001b[0;36mdrop\u001b[1;34m(self, labels, axis, index, columns, level, inplace, errors)\u001b[0m\n\u001b[0;32m   4306\u001b[0m                 \u001b[0mweight\u001b[0m  \u001b[1;36m1.0\u001b[0m     \u001b[1;36m0.8\u001b[0m\u001b[1;33m\u001b[0m\u001b[1;33m\u001b[0m\u001b[0m\n\u001b[0;32m   4307\u001b[0m         \"\"\"\n\u001b[1;32m-> 4308\u001b[1;33m         return super().drop(\n\u001b[0m\u001b[0;32m   4309\u001b[0m             \u001b[0mlabels\u001b[0m\u001b[1;33m=\u001b[0m\u001b[0mlabels\u001b[0m\u001b[1;33m,\u001b[0m\u001b[1;33m\u001b[0m\u001b[1;33m\u001b[0m\u001b[0m\n\u001b[0;32m   4310\u001b[0m             \u001b[0maxis\u001b[0m\u001b[1;33m=\u001b[0m\u001b[0maxis\u001b[0m\u001b[1;33m,\u001b[0m\u001b[1;33m\u001b[0m\u001b[1;33m\u001b[0m\u001b[0m\n",
      "\u001b[1;32m~\\anaconda3\\lib\\site-packages\\pandas\\core\\generic.py\u001b[0m in \u001b[0;36mdrop\u001b[1;34m(self, labels, axis, index, columns, level, inplace, errors)\u001b[0m\n\u001b[0;32m   4151\u001b[0m         \u001b[1;32mfor\u001b[0m \u001b[0maxis\u001b[0m\u001b[1;33m,\u001b[0m \u001b[0mlabels\u001b[0m \u001b[1;32min\u001b[0m \u001b[0maxes\u001b[0m\u001b[1;33m.\u001b[0m\u001b[0mitems\u001b[0m\u001b[1;33m(\u001b[0m\u001b[1;33m)\u001b[0m\u001b[1;33m:\u001b[0m\u001b[1;33m\u001b[0m\u001b[1;33m\u001b[0m\u001b[0m\n\u001b[0;32m   4152\u001b[0m             \u001b[1;32mif\u001b[0m \u001b[0mlabels\u001b[0m \u001b[1;32mis\u001b[0m \u001b[1;32mnot\u001b[0m \u001b[1;32mNone\u001b[0m\u001b[1;33m:\u001b[0m\u001b[1;33m\u001b[0m\u001b[1;33m\u001b[0m\u001b[0m\n\u001b[1;32m-> 4153\u001b[1;33m                 \u001b[0mobj\u001b[0m \u001b[1;33m=\u001b[0m \u001b[0mobj\u001b[0m\u001b[1;33m.\u001b[0m\u001b[0m_drop_axis\u001b[0m\u001b[1;33m(\u001b[0m\u001b[0mlabels\u001b[0m\u001b[1;33m,\u001b[0m \u001b[0maxis\u001b[0m\u001b[1;33m,\u001b[0m \u001b[0mlevel\u001b[0m\u001b[1;33m=\u001b[0m\u001b[0mlevel\u001b[0m\u001b[1;33m,\u001b[0m \u001b[0merrors\u001b[0m\u001b[1;33m=\u001b[0m\u001b[0merrors\u001b[0m\u001b[1;33m)\u001b[0m\u001b[1;33m\u001b[0m\u001b[1;33m\u001b[0m\u001b[0m\n\u001b[0m\u001b[0;32m   4154\u001b[0m \u001b[1;33m\u001b[0m\u001b[0m\n\u001b[0;32m   4155\u001b[0m         \u001b[1;32mif\u001b[0m \u001b[0minplace\u001b[0m\u001b[1;33m:\u001b[0m\u001b[1;33m\u001b[0m\u001b[1;33m\u001b[0m\u001b[0m\n",
      "\u001b[1;32m~\\anaconda3\\lib\\site-packages\\pandas\\core\\generic.py\u001b[0m in \u001b[0;36m_drop_axis\u001b[1;34m(self, labels, axis, level, errors)\u001b[0m\n\u001b[0;32m   4186\u001b[0m                 \u001b[0mnew_axis\u001b[0m \u001b[1;33m=\u001b[0m \u001b[0maxis\u001b[0m\u001b[1;33m.\u001b[0m\u001b[0mdrop\u001b[0m\u001b[1;33m(\u001b[0m\u001b[0mlabels\u001b[0m\u001b[1;33m,\u001b[0m \u001b[0mlevel\u001b[0m\u001b[1;33m=\u001b[0m\u001b[0mlevel\u001b[0m\u001b[1;33m,\u001b[0m \u001b[0merrors\u001b[0m\u001b[1;33m=\u001b[0m\u001b[0merrors\u001b[0m\u001b[1;33m)\u001b[0m\u001b[1;33m\u001b[0m\u001b[1;33m\u001b[0m\u001b[0m\n\u001b[0;32m   4187\u001b[0m             \u001b[1;32melse\u001b[0m\u001b[1;33m:\u001b[0m\u001b[1;33m\u001b[0m\u001b[1;33m\u001b[0m\u001b[0m\n\u001b[1;32m-> 4188\u001b[1;33m                 \u001b[0mnew_axis\u001b[0m \u001b[1;33m=\u001b[0m \u001b[0maxis\u001b[0m\u001b[1;33m.\u001b[0m\u001b[0mdrop\u001b[0m\u001b[1;33m(\u001b[0m\u001b[0mlabels\u001b[0m\u001b[1;33m,\u001b[0m \u001b[0merrors\u001b[0m\u001b[1;33m=\u001b[0m\u001b[0merrors\u001b[0m\u001b[1;33m)\u001b[0m\u001b[1;33m\u001b[0m\u001b[1;33m\u001b[0m\u001b[0m\n\u001b[0m\u001b[0;32m   4189\u001b[0m             \u001b[0mresult\u001b[0m \u001b[1;33m=\u001b[0m \u001b[0mself\u001b[0m\u001b[1;33m.\u001b[0m\u001b[0mreindex\u001b[0m\u001b[1;33m(\u001b[0m\u001b[1;33m**\u001b[0m\u001b[1;33m{\u001b[0m\u001b[0maxis_name\u001b[0m\u001b[1;33m:\u001b[0m \u001b[0mnew_axis\u001b[0m\u001b[1;33m}\u001b[0m\u001b[1;33m)\u001b[0m\u001b[1;33m\u001b[0m\u001b[1;33m\u001b[0m\u001b[0m\n\u001b[0;32m   4190\u001b[0m \u001b[1;33m\u001b[0m\u001b[0m\n",
      "\u001b[1;32m~\\anaconda3\\lib\\site-packages\\pandas\\core\\indexes\\base.py\u001b[0m in \u001b[0;36mdrop\u001b[1;34m(self, labels, errors)\u001b[0m\n\u001b[0;32m   5589\u001b[0m         \u001b[1;32mif\u001b[0m \u001b[0mmask\u001b[0m\u001b[1;33m.\u001b[0m\u001b[0many\u001b[0m\u001b[1;33m(\u001b[0m\u001b[1;33m)\u001b[0m\u001b[1;33m:\u001b[0m\u001b[1;33m\u001b[0m\u001b[1;33m\u001b[0m\u001b[0m\n\u001b[0;32m   5590\u001b[0m             \u001b[1;32mif\u001b[0m \u001b[0merrors\u001b[0m \u001b[1;33m!=\u001b[0m \u001b[1;34m\"ignore\"\u001b[0m\u001b[1;33m:\u001b[0m\u001b[1;33m\u001b[0m\u001b[1;33m\u001b[0m\u001b[0m\n\u001b[1;32m-> 5591\u001b[1;33m                 \u001b[1;32mraise\u001b[0m \u001b[0mKeyError\u001b[0m\u001b[1;33m(\u001b[0m\u001b[1;34mf\"{labels[mask]} not found in axis\"\u001b[0m\u001b[1;33m)\u001b[0m\u001b[1;33m\u001b[0m\u001b[1;33m\u001b[0m\u001b[0m\n\u001b[0m\u001b[0;32m   5592\u001b[0m             \u001b[0mindexer\u001b[0m \u001b[1;33m=\u001b[0m \u001b[0mindexer\u001b[0m\u001b[1;33m[\u001b[0m\u001b[1;33m~\u001b[0m\u001b[0mmask\u001b[0m\u001b[1;33m]\u001b[0m\u001b[1;33m\u001b[0m\u001b[1;33m\u001b[0m\u001b[0m\n\u001b[0;32m   5593\u001b[0m         \u001b[1;32mreturn\u001b[0m \u001b[0mself\u001b[0m\u001b[1;33m.\u001b[0m\u001b[0mdelete\u001b[0m\u001b[1;33m(\u001b[0m\u001b[0mindexer\u001b[0m\u001b[1;33m)\u001b[0m\u001b[1;33m\u001b[0m\u001b[1;33m\u001b[0m\u001b[0m\n",
      "\u001b[1;31mKeyError\u001b[0m: \"['reservation_status_date'] not found in axis\""
     ]
    }
   ],
   "source": [
    "X_train.drop(\"reservation_status_date\",axis=1,inplace=True)\n",
    "X_test.drop(\"reservation_status_date\",axis=1,inplace=True)"
   ]
  },
  {
   "cell_type": "code",
   "execution_count": 211,
   "id": "f6511a05",
   "metadata": {},
   "outputs": [
    {
     "data": {
      "text/plain": [
       "Index(['hotel', 'lead_time', 'arrival_date_year', 'arrival_date_month',\n",
       "       'arrival_date_week_number', 'arrival_date_day_of_month',\n",
       "       'stays_in_weekend_nights', 'stays_in_week_nights', 'adults', 'children',\n",
       "       'babies', 'meal', 'country', 'market_segment', 'distribution_channel',\n",
       "       'is_repeated_guest', 'previous_cancellations',\n",
       "       'previous_bookings_not_canceled', 'reserved_room_type',\n",
       "       'assigned_room_type', 'booking_changes', 'deposit_type',\n",
       "       'days_in_waiting_list', 'customer_type', 'adr',\n",
       "       'required_car_parking_spaces', 'total_of_special_requests',\n",
       "       'reservation_status'],\n",
       "      dtype='object')"
      ]
     },
     "execution_count": 211,
     "metadata": {},
     "output_type": "execute_result"
    }
   ],
   "source": []
  },
  {
   "cell_type": "code",
   "execution_count": 212,
   "id": "e74b82fa",
   "metadata": {},
   "outputs": [],
   "source": [
    "X_train[X_train.values<0]## checking if there is any negative value in training data\n",
    "X_train.loc[14969,\"adr\"]=0## Filling negative value with 0"
   ]
  },
  {
   "cell_type": "code",
   "execution_count": 213,
   "id": "86b8cc20",
   "metadata": {},
   "outputs": [
    {
     "data": {
      "text/plain": [
       "hotel                             0\n",
       "lead_time                         0\n",
       "arrival_date_year                 0\n",
       "arrival_date_month                0\n",
       "arrival_date_week_number          0\n",
       "arrival_date_day_of_month         0\n",
       "stays_in_weekend_nights           0\n",
       "stays_in_week_nights              0\n",
       "adults                            0\n",
       "children                          0\n",
       "babies                            0\n",
       "meal                              0\n",
       "country                           0\n",
       "market_segment                    0\n",
       "distribution_channel              0\n",
       "is_repeated_guest                 0\n",
       "previous_cancellations            0\n",
       "previous_bookings_not_canceled    0\n",
       "reserved_room_type                0\n",
       "assigned_room_type                0\n",
       "booking_changes                   0\n",
       "deposit_type                      0\n",
       "days_in_waiting_list              0\n",
       "customer_type                     0\n",
       "adr                               0\n",
       "required_car_parking_spaces       0\n",
       "total_of_special_requests         0\n",
       "reservation_status                0\n",
       "dtype: int64"
      ]
     },
     "execution_count": 213,
     "metadata": {},
     "output_type": "execute_result"
    }
   ],
   "source": [
    "X_train.isnull().sum()"
   ]
  },
  {
   "cell_type": "code",
   "execution_count": 214,
   "id": "fc4bce24",
   "metadata": {},
   "outputs": [
    {
     "data": {
      "text/plain": [
       "Index(['hotel', 'is_canceled', 'lead_time', 'arrival_date_year',\n",
       "       'arrival_date_month', 'arrival_date_week_number',\n",
       "       'arrival_date_day_of_month', 'stays_in_weekend_nights',\n",
       "       'stays_in_week_nights', 'adults', 'children', 'babies', 'meal',\n",
       "       'country', 'market_segment', 'distribution_channel',\n",
       "       'is_repeated_guest', 'previous_cancellations',\n",
       "       'previous_bookings_not_canceled', 'reserved_room_type',\n",
       "       'assigned_room_type', 'booking_changes', 'deposit_type', 'agent',\n",
       "       'company', 'days_in_waiting_list', 'customer_type', 'adr',\n",
       "       'required_car_parking_spaces', 'total_of_special_requests',\n",
       "       'reservation_status', 'reservation_status_date'],\n",
       "      dtype='object')"
      ]
     },
     "execution_count": 214,
     "metadata": {},
     "output_type": "execute_result"
    }
   ],
   "source": [
    "df.columns"
   ]
  },
  {
   "cell_type": "code",
   "execution_count": 215,
   "id": "8ac320a6",
   "metadata": {},
   "outputs": [
    {
     "data": {
      "text/plain": [
       "array([1.02375547e+03, 2.89722057e+04, 3.97685154e-03, 4.58180357e-01,\n",
       "       4.47179890e+01, 1.39656944e+01, 1.74190980e-01, 8.60771583e+01,\n",
       "       4.92587466e+01, 2.93883077e+00, 1.10008172e+02, 4.65017920e+01,\n",
       "       1.21442687e+05, 9.96782474e+01, 7.55139016e+02, 5.97528870e+02,\n",
       "       8.37134575e+03, 4.58425800e+03, 8.73846741e+02, 6.90879869e+03,\n",
       "       3.31491176e+03, 1.65161190e+04, 3.56584863e+04, 6.30348287e+01,\n",
       "       5.05693324e+03, 3.06580584e+03, 5.05674809e+03, 2.68340159e+04])"
      ]
     },
     "execution_count": 215,
     "metadata": {},
     "output_type": "execute_result"
    }
   ],
   "source": [
    "from sklearn.feature_selection import chi2,SelectKBest,mutual_info_classif\n",
    "## Chi2 use to find importanceof features with respect to target features \n",
    "best_features=SelectKBest(score_func=chi2,k=11).fit(X_train,Y_train)\n",
    "best_features.scores_\n",
    "## Here this function returns the chi2 statitics value,heigher the  chi2 statitics value means feature is more important"
   ]
  },
  {
   "cell_type": "code",
   "execution_count": 241,
   "id": "ec3668cf",
   "metadata": {},
   "outputs": [
    {
     "data": {
      "text/plain": [
       "Index(['reserved_room_type', 'assigned_room_type', 'booking_changes',\n",
       "       'deposit_type', 'days_in_waiting_list', 'customer_type', 'adr',\n",
       "       'required_car_parking_spaces', 'total_of_special_requests',\n",
       "       'reservation_status'],\n",
       "      dtype='object')"
      ]
     },
     "execution_count": 241,
     "metadata": {},
     "output_type": "execute_result"
    }
   ],
   "source": [
    "best_f=best_features.get_support(indices=True)\n",
    "feature_top=X_train.columns[best_f]\n",
    "feature_top"
   ]
  },
  {
   "cell_type": "code",
   "execution_count": 220,
   "id": "ea4ee340",
   "metadata": {},
   "outputs": [
    {
     "data": {
      "text/html": [
       "<div>\n",
       "<style scoped>\n",
       "    .dataframe tbody tr th:only-of-type {\n",
       "        vertical-align: middle;\n",
       "    }\n",
       "\n",
       "    .dataframe tbody tr th {\n",
       "        vertical-align: top;\n",
       "    }\n",
       "\n",
       "    .dataframe thead th {\n",
       "        text-align: right;\n",
       "    }\n",
       "</style>\n",
       "<table border=\"1\" class=\"dataframe\">\n",
       "  <thead>\n",
       "    <tr style=\"text-align: right;\">\n",
       "      <th></th>\n",
       "      <th>0</th>\n",
       "    </tr>\n",
       "  </thead>\n",
       "  <tbody>\n",
       "    <tr>\n",
       "      <th>hotel</th>\n",
       "      <td>1023.755466</td>\n",
       "    </tr>\n",
       "    <tr>\n",
       "      <th>lead_time</th>\n",
       "      <td>28972.205748</td>\n",
       "    </tr>\n",
       "    <tr>\n",
       "      <th>arrival_date_year</th>\n",
       "      <td>0.003977</td>\n",
       "    </tr>\n",
       "    <tr>\n",
       "      <th>arrival_date_month</th>\n",
       "      <td>0.458180</td>\n",
       "    </tr>\n",
       "    <tr>\n",
       "      <th>arrival_date_week_number</th>\n",
       "      <td>44.717989</td>\n",
       "    </tr>\n",
       "    <tr>\n",
       "      <th>arrival_date_day_of_month</th>\n",
       "      <td>13.965694</td>\n",
       "    </tr>\n",
       "    <tr>\n",
       "      <th>stays_in_weekend_nights</th>\n",
       "      <td>0.174191</td>\n",
       "    </tr>\n",
       "    <tr>\n",
       "      <th>stays_in_week_nights</th>\n",
       "      <td>86.077158</td>\n",
       "    </tr>\n",
       "    <tr>\n",
       "      <th>adults</th>\n",
       "      <td>49.258747</td>\n",
       "    </tr>\n",
       "    <tr>\n",
       "      <th>children</th>\n",
       "      <td>2.938831</td>\n",
       "    </tr>\n",
       "    <tr>\n",
       "      <th>babies</th>\n",
       "      <td>110.008172</td>\n",
       "    </tr>\n",
       "    <tr>\n",
       "      <th>meal</th>\n",
       "      <td>46.501792</td>\n",
       "    </tr>\n",
       "    <tr>\n",
       "      <th>country</th>\n",
       "      <td>121442.686936</td>\n",
       "    </tr>\n",
       "    <tr>\n",
       "      <th>market_segment</th>\n",
       "      <td>99.678247</td>\n",
       "    </tr>\n",
       "    <tr>\n",
       "      <th>distribution_channel</th>\n",
       "      <td>755.139016</td>\n",
       "    </tr>\n",
       "    <tr>\n",
       "      <th>is_repeated_guest</th>\n",
       "      <td>597.528870</td>\n",
       "    </tr>\n",
       "    <tr>\n",
       "      <th>previous_cancellations</th>\n",
       "      <td>8371.345753</td>\n",
       "    </tr>\n",
       "    <tr>\n",
       "      <th>previous_bookings_not_canceled</th>\n",
       "      <td>4584.257997</td>\n",
       "    </tr>\n",
       "    <tr>\n",
       "      <th>reserved_room_type</th>\n",
       "      <td>873.846741</td>\n",
       "    </tr>\n",
       "    <tr>\n",
       "      <th>assigned_room_type</th>\n",
       "      <td>6908.798693</td>\n",
       "    </tr>\n",
       "    <tr>\n",
       "      <th>booking_changes</th>\n",
       "      <td>3314.911764</td>\n",
       "    </tr>\n",
       "    <tr>\n",
       "      <th>deposit_type</th>\n",
       "      <td>16516.118993</td>\n",
       "    </tr>\n",
       "    <tr>\n",
       "      <th>days_in_waiting_list</th>\n",
       "      <td>35658.486263</td>\n",
       "    </tr>\n",
       "    <tr>\n",
       "      <th>customer_type</th>\n",
       "      <td>63.034829</td>\n",
       "    </tr>\n",
       "    <tr>\n",
       "      <th>adr</th>\n",
       "      <td>5056.933244</td>\n",
       "    </tr>\n",
       "    <tr>\n",
       "      <th>required_car_parking_spaces</th>\n",
       "      <td>3065.805845</td>\n",
       "    </tr>\n",
       "    <tr>\n",
       "      <th>total_of_special_requests</th>\n",
       "      <td>5056.748091</td>\n",
       "    </tr>\n",
       "    <tr>\n",
       "      <th>reservation_status</th>\n",
       "      <td>26834.015914</td>\n",
       "    </tr>\n",
       "  </tbody>\n",
       "</table>\n",
       "</div>"
      ],
      "text/plain": [
       "                                            0\n",
       "hotel                             1023.755466\n",
       "lead_time                        28972.205748\n",
       "arrival_date_year                    0.003977\n",
       "arrival_date_month                   0.458180\n",
       "arrival_date_week_number            44.717989\n",
       "arrival_date_day_of_month           13.965694\n",
       "stays_in_weekend_nights              0.174191\n",
       "stays_in_week_nights                86.077158\n",
       "adults                              49.258747\n",
       "children                             2.938831\n",
       "babies                             110.008172\n",
       "meal                                46.501792\n",
       "country                         121442.686936\n",
       "market_segment                      99.678247\n",
       "distribution_channel               755.139016\n",
       "is_repeated_guest                  597.528870\n",
       "previous_cancellations            8371.345753\n",
       "previous_bookings_not_canceled    4584.257997\n",
       "reserved_room_type                 873.846741\n",
       "assigned_room_type                6908.798693\n",
       "booking_changes                   3314.911764\n",
       "deposit_type                     16516.118993\n",
       "days_in_waiting_list             35658.486263\n",
       "customer_type                       63.034829\n",
       "adr                               5056.933244\n",
       "required_car_parking_spaces       3065.805845\n",
       "total_of_special_requests         5056.748091\n",
       "reservation_status               26834.015914"
      ]
     },
     "execution_count": 220,
     "metadata": {},
     "output_type": "execute_result"
    }
   ],
   "source": [
    "pd.DataFrame(best_features.scores_,X_train.columns)"
   ]
  },
  {
   "cell_type": "markdown",
   "id": "45cbc934",
   "metadata": {},
   "source": [
    "#### Using mutual_info_classif"
   ]
  },
  {
   "cell_type": "code",
   "execution_count": 221,
   "id": "093b3911",
   "metadata": {},
   "outputs": [],
   "source": [
    "from sklearn.feature_selection import chi2,SelectKBest,mutual_info_classif #uses anova test\n",
    "\n",
    "best_features=SelectKBest(score_func=mutual_info_classif,k=10).fit(X_train,Y_train)\n",
    "best_features.scores_.sort()\n"
   ]
  },
  {
   "cell_type": "code",
   "execution_count": 222,
   "id": "a13d029e",
   "metadata": {},
   "outputs": [
    {
     "data": {
      "text/html": [
       "<div>\n",
       "<style scoped>\n",
       "    .dataframe tbody tr th:only-of-type {\n",
       "        vertical-align: middle;\n",
       "    }\n",
       "\n",
       "    .dataframe tbody tr th {\n",
       "        vertical-align: top;\n",
       "    }\n",
       "\n",
       "    .dataframe thead th {\n",
       "        text-align: right;\n",
       "    }\n",
       "</style>\n",
       "<table border=\"1\" class=\"dataframe\">\n",
       "  <thead>\n",
       "    <tr style=\"text-align: right;\">\n",
       "      <th></th>\n",
       "      <th>0</th>\n",
       "    </tr>\n",
       "  </thead>\n",
       "  <tbody>\n",
       "    <tr>\n",
       "      <th>hotel</th>\n",
       "      <td>0.000000</td>\n",
       "    </tr>\n",
       "    <tr>\n",
       "      <th>lead_time</th>\n",
       "      <td>0.000000</td>\n",
       "    </tr>\n",
       "    <tr>\n",
       "      <th>arrival_date_year</th>\n",
       "      <td>0.000893</td>\n",
       "    </tr>\n",
       "    <tr>\n",
       "      <th>arrival_date_month</th>\n",
       "      <td>0.001619</td>\n",
       "    </tr>\n",
       "    <tr>\n",
       "      <th>arrival_date_week_number</th>\n",
       "      <td>0.002026</td>\n",
       "    </tr>\n",
       "    <tr>\n",
       "      <th>arrival_date_day_of_month</th>\n",
       "      <td>0.003140</td>\n",
       "    </tr>\n",
       "    <tr>\n",
       "      <th>stays_in_weekend_nights</th>\n",
       "      <td>0.004918</td>\n",
       "    </tr>\n",
       "    <tr>\n",
       "      <th>stays_in_week_nights</th>\n",
       "      <td>0.005042</td>\n",
       "    </tr>\n",
       "    <tr>\n",
       "      <th>adults</th>\n",
       "      <td>0.005280</td>\n",
       "    </tr>\n",
       "    <tr>\n",
       "      <th>children</th>\n",
       "      <td>0.006163</td>\n",
       "    </tr>\n",
       "    <tr>\n",
       "      <th>babies</th>\n",
       "      <td>0.007353</td>\n",
       "    </tr>\n",
       "    <tr>\n",
       "      <th>meal</th>\n",
       "      <td>0.007820</td>\n",
       "    </tr>\n",
       "    <tr>\n",
       "      <th>country</th>\n",
       "      <td>0.008046</td>\n",
       "    </tr>\n",
       "    <tr>\n",
       "      <th>market_segment</th>\n",
       "      <td>0.011987</td>\n",
       "    </tr>\n",
       "    <tr>\n",
       "      <th>distribution_channel</th>\n",
       "      <td>0.013867</td>\n",
       "    </tr>\n",
       "    <tr>\n",
       "      <th>is_repeated_guest</th>\n",
       "      <td>0.016058</td>\n",
       "    </tr>\n",
       "    <tr>\n",
       "      <th>previous_cancellations</th>\n",
       "      <td>0.022126</td>\n",
       "    </tr>\n",
       "    <tr>\n",
       "      <th>previous_bookings_not_canceled</th>\n",
       "      <td>0.022683</td>\n",
       "    </tr>\n",
       "    <tr>\n",
       "      <th>reserved_room_type</th>\n",
       "      <td>0.025924</td>\n",
       "    </tr>\n",
       "    <tr>\n",
       "      <th>assigned_room_type</th>\n",
       "      <td>0.029876</td>\n",
       "    </tr>\n",
       "    <tr>\n",
       "      <th>booking_changes</th>\n",
       "      <td>0.036994</td>\n",
       "    </tr>\n",
       "    <tr>\n",
       "      <th>deposit_type</th>\n",
       "      <td>0.038053</td>\n",
       "    </tr>\n",
       "    <tr>\n",
       "      <th>days_in_waiting_list</th>\n",
       "      <td>0.041525</td>\n",
       "    </tr>\n",
       "    <tr>\n",
       "      <th>customer_type</th>\n",
       "      <td>0.069241</td>\n",
       "    </tr>\n",
       "    <tr>\n",
       "      <th>adr</th>\n",
       "      <td>0.076510</td>\n",
       "    </tr>\n",
       "    <tr>\n",
       "      <th>required_car_parking_spaces</th>\n",
       "      <td>0.082163</td>\n",
       "    </tr>\n",
       "    <tr>\n",
       "      <th>total_of_special_requests</th>\n",
       "      <td>0.132310</td>\n",
       "    </tr>\n",
       "    <tr>\n",
       "      <th>reservation_status</th>\n",
       "      <td>0.667442</td>\n",
       "    </tr>\n",
       "  </tbody>\n",
       "</table>\n",
       "</div>"
      ],
      "text/plain": [
       "                                       0\n",
       "hotel                           0.000000\n",
       "lead_time                       0.000000\n",
       "arrival_date_year               0.000893\n",
       "arrival_date_month              0.001619\n",
       "arrival_date_week_number        0.002026\n",
       "arrival_date_day_of_month       0.003140\n",
       "stays_in_weekend_nights         0.004918\n",
       "stays_in_week_nights            0.005042\n",
       "adults                          0.005280\n",
       "children                        0.006163\n",
       "babies                          0.007353\n",
       "meal                            0.007820\n",
       "country                         0.008046\n",
       "market_segment                  0.011987\n",
       "distribution_channel            0.013867\n",
       "is_repeated_guest               0.016058\n",
       "previous_cancellations          0.022126\n",
       "previous_bookings_not_canceled  0.022683\n",
       "reserved_room_type              0.025924\n",
       "assigned_room_type              0.029876\n",
       "booking_changes                 0.036994\n",
       "deposit_type                    0.038053\n",
       "days_in_waiting_list            0.041525\n",
       "customer_type                   0.069241\n",
       "adr                             0.076510\n",
       "required_car_parking_spaces     0.082163\n",
       "total_of_special_requests       0.132310\n",
       "reservation_status              0.667442"
      ]
     },
     "execution_count": 222,
     "metadata": {},
     "output_type": "execute_result"
    }
   ],
   "source": [
    "pd.DataFrame(best_features.scores_,X_train.columns)"
   ]
  },
  {
   "cell_type": "code",
   "execution_count": 223,
   "id": "a5ce9a68",
   "metadata": {},
   "outputs": [
    {
     "data": {
      "text/plain": [
       "array([18, 19, 20, 21, 22, 23, 24, 25, 26, 27], dtype=int64)"
      ]
     },
     "execution_count": 223,
     "metadata": {},
     "output_type": "execute_result"
    }
   ],
   "source": [
    "features_by_mutual_info=best_features.get_support(indices=True)\n",
    "features_by_mutual_info"
   ]
  },
  {
   "cell_type": "markdown",
   "id": "c5c5ebc3",
   "metadata": {},
   "source": [
    "#### Using Extra Tree Classifier"
   ]
  },
  {
   "cell_type": "code",
   "execution_count": null,
   "id": "cdf23a1d",
   "metadata": {},
   "outputs": [],
   "source": [
    "from sklearn.ensemble import ExtraTreesClassifier\n",
    "model_=ExtraTreesClassifier()\n",
    "model_=model_.fit(X_train,Y_train) \n"
   ]
  },
  {
   "cell_type": "code",
   "execution_count": null,
   "id": "ff0793e1",
   "metadata": {},
   "outputs": [],
   "source": [
    "model_.feature_importances_\n",
    "plt.figure(figsize = (12,8))\n",
    "ranked_features = pd.Series(model_.feature_importances_, index=X_train.columns)\n",
    "ranked_features.nlargest(10).plot(kind='barh')\n",
    "plt.show()\n"
   ]
  },
  {
   "cell_type": "code",
   "execution_count": null,
   "id": "73b22e90",
   "metadata": {},
   "outputs": [],
   "source": [
    "X_train.drop(drop_features,axis=1,inplace=True)\n",
    "X_test.drop(drop_features,axis=1,inplace=True)"
   ]
  },
  {
   "cell_type": "markdown",
   "id": "c51e46e5",
   "metadata": {},
   "source": [
    "### Logistic Regression"
   ]
  },
  {
   "cell_type": "code",
   "execution_count": 225,
   "id": "f0872857",
   "metadata": {},
   "outputs": [
    {
     "data": {
      "text/plain": [
       "LogisticRegressionCV()"
      ]
     },
     "execution_count": 225,
     "metadata": {},
     "output_type": "execute_result"
    }
   ],
   "source": [
    "from sklearn.linear_model import LogisticRegressionCV\n",
    "LogisticRegressionCV()"
   ]
  },
  {
   "cell_type": "code",
   "execution_count": 226,
   "id": "78e401ec",
   "metadata": {},
   "outputs": [
    {
     "data": {
      "text/plain": [
       "8270      0\n",
       "93045     0\n",
       "96404     0\n",
       "60828     1\n",
       "112232    0\n",
       "         ..\n",
       "21732     0\n",
       "115056    0\n",
       "26836     0\n",
       "76640     0\n",
       "53370     1\n",
       "Name: is_canceled, Length: 83573, dtype: int64"
      ]
     },
     "execution_count": 226,
     "metadata": {},
     "output_type": "execute_result"
    }
   ],
   "source": [
    "Y_train"
   ]
  },
  {
   "cell_type": "code",
   "execution_count": 227,
   "id": "f6d06d1a",
   "metadata": {},
   "outputs": [
    {
     "data": {
      "text/plain": [
       "Index(['hotel', 'lead_time', 'arrival_date_year', 'arrival_date_month',\n",
       "       'arrival_date_week_number', 'arrival_date_day_of_month',\n",
       "       'stays_in_weekend_nights', 'stays_in_week_nights', 'adults', 'children',\n",
       "       'babies', 'meal', 'country', 'market_segment', 'distribution_channel',\n",
       "       'is_repeated_guest', 'previous_cancellations',\n",
       "       'previous_bookings_not_canceled', 'reserved_room_type',\n",
       "       'assigned_room_type', 'booking_changes', 'deposit_type',\n",
       "       'days_in_waiting_list', 'customer_type', 'adr',\n",
       "       'required_car_parking_spaces', 'total_of_special_requests',\n",
       "       'reservation_status'],\n",
       "      dtype='object')"
      ]
     },
     "execution_count": 227,
     "metadata": {},
     "output_type": "execute_result"
    }
   ],
   "source": [
    "X_train.columns\n"
   ]
  },
  {
   "cell_type": "code",
   "execution_count": 228,
   "id": "696acf2b",
   "metadata": {},
   "outputs": [
    {
     "name": "stdout",
     "output_type": "stream",
     "text": [
      "Confusion matrix is:::\n",
      " [[22537     1]\n",
      " [  372 12907]]\n",
      "classification_report is:::\n",
      "               precision    recall  f1-score   support\n",
      "\n",
      "           0       0.98      1.00      0.99     22538\n",
      "           1       1.00      0.97      0.99     13279\n",
      "\n",
      "    accuracy                           0.99     35817\n",
      "   macro avg       0.99      0.99      0.99     35817\n",
      "weighted avg       0.99      0.99      0.99     35817\n",
      "\n"
     ]
    }
   ],
   "source": [
    "from sklearn.linear_model import LogisticRegression## Used chi2 features\n",
    "\n",
    "from sklearn.metrics import accuracy_score,classification_report,confusion_matrix,roc_auc_score,recall_score,accuracy_score,roc_curve\n",
    "model1=LogisticRegression().fit(X_train[feature_top],Y_train)\n",
    "Y_pred=model1.predict(X_test[feature_top])\n",
    "print(\"Confusion matrix is:::\\n\",confusion_matrix(Y_test,Y_pred))\n",
    "print(\"classification_report is:::\\n\",classification_report(Y_test,Y_pred))"
   ]
  },
  {
   "cell_type": "code",
   "execution_count": 229,
   "id": "ca494b55",
   "metadata": {},
   "outputs": [
    {
     "data": {
      "text/plain": [
       "0.9859707363990647"
      ]
     },
     "execution_count": 229,
     "metadata": {},
     "output_type": "execute_result"
    }
   ],
   "source": [
    "auc=roc_auc_score(Y_test,Y_pred)\n",
    "auc"
   ]
  },
  {
   "cell_type": "code",
   "execution_count": 230,
   "id": "3f78a0ba",
   "metadata": {},
   "outputs": [
    {
     "data": {
      "text/plain": [
       "0.9895859508054834"
      ]
     },
     "execution_count": 230,
     "metadata": {},
     "output_type": "execute_result"
    }
   ],
   "source": [
    "accuracy_score(Y_test,Y_pred)"
   ]
  },
  {
   "cell_type": "code",
   "execution_count": 231,
   "id": "dc9ec91b",
   "metadata": {},
   "outputs": [],
   "source": [
    "fpr, tpr, thresholds = roc_curve(Y_test, Y_pred)"
   ]
  },
  {
   "cell_type": "code",
   "execution_count": 232,
   "id": "30dab6b7",
   "metadata": {},
   "outputs": [
    {
     "data": {
      "image/png": "[encoded data removed]",
      "text/plain": [
       "<Figure size 432x288 with 1 Axes>"
      ]
     },
     "metadata": {
      "needs_background": "light"
     },
     "output_type": "display_data"
    }
   ],
   "source": [
    "plt.plot(fpr, tpr, color='orange', label='ROC')\n",
    "plt.plot([0, 1], [0, 1], color='darkblue', linestyle='--',label='ROC curve (area = %0.2f)' % auc)\n",
    "plt.xlabel('False Positive Rate')\n",
    "plt.ylabel('True Positive Rate')\n",
    "plt.title('Receiver Operating Characteristic (ROC) Curve')\n",
    "plt.legend()\n",
    "plt.show()"
   ]
  },
  {
   "cell_type": "code",
   "execution_count": 233,
   "id": "41d0eb00",
   "metadata": {},
   "outputs": [
    {
     "name": "stdout",
     "output_type": "stream",
     "text": [
      "Confusion matrix is:::\n",
      " [[22356   182]\n",
      " [    0 13279]]\n",
      "classification_report is:::\n",
      "               precision    recall  f1-score   support\n",
      "\n",
      "           0       1.00      0.99      1.00     22538\n",
      "           1       0.99      1.00      0.99     13279\n",
      "\n",
      "    accuracy                           0.99     35817\n",
      "   macro avg       0.99      1.00      0.99     35817\n",
      "weighted avg       0.99      0.99      0.99     35817\n",
      "\n"
     ]
    }
   ],
   "source": [
    "from sklearn.naive_bayes import GaussianNB\n",
    "model2=GaussianNB().fit(X_train[feature_top],Y_train)\n",
    "Y_pred=model2.predict(X_test[feature_top])\n",
    "print(\"Confusion matrix is:::\\n\",confusion_matrix(Y_test,Y_pred))\n",
    "print(\"classification_report is:::\\n\",classification_report(Y_test,Y_pred))\n"
   ]
  },
  {
   "cell_type": "markdown",
   "id": "384f56d2",
   "metadata": {},
   "source": [
    "### Random forest Classifier"
   ]
  },
  {
   "cell_type": "code",
   "execution_count": 234,
   "id": "17991f7a",
   "metadata": {},
   "outputs": [
    {
     "name": "stdout",
     "output_type": "stream",
     "text": [
      "Confusion matrix is:::\n",
      " [[22538     0]\n",
      " [    0 13279]]\n",
      "classification_report is:::\n",
      "               precision    recall  f1-score   support\n",
      "\n",
      "           0       1.00      1.00      1.00     22538\n",
      "           1       1.00      1.00      1.00     13279\n",
      "\n",
      "    accuracy                           1.00     35817\n",
      "   macro avg       1.00      1.00      1.00     35817\n",
      "weighted avg       1.00      1.00      1.00     35817\n",
      "\n"
     ]
    }
   ],
   "source": [
    "from sklearn.ensemble import RandomForestClassifier\n",
    "from sklearn.metrics import accuracy_score,classification_report,confusion_matrix,roc_auc_score,recall_score,accuracy_score,roc_curve\n",
    "model2=RandomForestClassifier(random_state=0).fit(X_train[feature_top],Y_train)\n",
    "Y_pred=model4.predict(X_test[feature_top\n",
    "                            ])\n",
    "print(\"Confusion matrix is:::\\n\",confusion_matrix(Y_test,Y_pred))\n",
    "print(\"classification_report is:::\\n\",classification_report(Y_test,Y_pred))\n"
   ]
  },
  {
   "cell_type": "code",
   "execution_count": 235,
   "id": "2f134eba",
   "metadata": {},
   "outputs": [
    {
     "data": {
      "text/plain": [
       "1.0"
      ]
     },
     "execution_count": 235,
     "metadata": {},
     "output_type": "execute_result"
    }
   ],
   "source": [
    "auc=roc_auc_score(Y_test,Y_pred)\n",
    "auc"
   ]
  },
  {
   "cell_type": "code",
   "execution_count": 236,
   "id": "240d140c",
   "metadata": {},
   "outputs": [],
   "source": [
    "fpr, tpr, thresholds = roc_curve(Y_test, Y_pred)"
   ]
  },
  {
   "cell_type": "code",
   "execution_count": 237,
   "id": "2d761277",
   "metadata": {},
   "outputs": [
    {
     "data": {
      "image/png": "[encoded data removed]",
      "text/plain": [
       "<Figure size 432x288 with 1 Axes>"
      ]
     },
     "metadata": {
      "needs_background": "light"
     },
     "output_type": "display_data"
    }
   ],
   "source": [
    "plt.plot(fpr, tpr, color='orange', label='ROC')\n",
    "plt.plot([0, 1], [0, 1], color='darkblue', linestyle='--',label='ROC curve (area = %0.2f)' % auc)\n",
    "plt.xlabel('False Positive Rate')\n",
    "plt.ylabel('True Positive Rate')\n",
    "plt.title('Receiver Operating Characteristic (ROC) Curve')\n",
    "plt.legend()\n",
    "plt.show()"
   ]
  },
  {
   "cell_type": "code",
   "execution_count": 239,
   "id": "60c53713",
   "metadata": {},
   "outputs": [],
   "source": [
    "import pickle\n",
    "pickle_model=pickle.dump(model2,open('model.pkl','wb'))\n",
    "model=pickle.load(open('model.pkl','rb'))\n"
   ]
  },
  {
   "cell_type": "code",
   "execution_count": null,
   "id": "87a9f3ea",
   "metadata": {},
   "outputs": [],
   "source": []
  }
 ],
 "metadata": {
  "kernelspec": {
   "display_name": "Python 3",
   "language": "python",
   "name": "python3"
  },
  "language_info": {
   "codemirror_mode": {
    "name": "ipython",
    "version": 3
   },
   "file_extension": ".py",
   "mimetype": "text/x-python",
   "name": "python",
   "nbconvert_exporter": "python",
   "pygments_lexer": "ipython3",
   "version": "3.8.8"
  }
 },
 "nbformat": 4,
 "nbformat_minor": 5
}
